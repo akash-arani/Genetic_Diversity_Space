{
 "cells": [
  {
   "cell_type": "code",
   "execution_count": 1,
   "id": "ccd55724-cb72-485f-81d0-d7bb04a62aef",
   "metadata": {},
   "outputs": [],
   "source": [
    "from scipy.special import gamma, factorial"
   ]
  },
  {
   "cell_type": "code",
   "execution_count": 2,
   "id": "0c408658-4f2d-4bea-a85a-2c8c45ed432d",
   "metadata": {},
   "outputs": [],
   "source": [
    "import msprime\n",
    "import tskit\n",
    "import numpy as np\n",
    "import matplotlib.pyplot as plt\n",
    "import pandas as pd\n",
    "import pylab\n",
    "import scipy.linalg\n",
    "import matplotlib\n",
    "import csv\n",
    "import random\n",
    "from itertools import groupby\n",
    "import collections"
   ]
  },
  {
   "cell_type": "markdown",
   "id": "96974e44-5607-40ef-9264-18e0f9523bf3",
   "metadata": {},
   "source": [
    "### Simulating a 1-D system where m*rho << 1 (Should take 5-10 min to run at max)"
   ]
  },
  {
   "cell_type": "code",
   "execution_count": 3,
   "id": "4a0eee0a-ee3c-4bc3-a489-80e3f2a8bde6",
   "metadata": {},
   "outputs": [
    {
     "data": {
      "text/plain": [
       "<BarContainer object of 1000 artists>"
      ]
     },
     "execution_count": 3,
     "metadata": {},
     "output_type": "execute_result"
    },
    {
     "data": {
      "image/png": "[encoded data removed]",
      "text/plain": [
       "<Figure size 432x288 with 1 Axes>"
      ]
     },
     "metadata": {
      "needs_background": "light"
     },
     "output_type": "display_data"
    }
   ],
   "source": [
    "x_f=np.arange(1000)/1000\n",
    "y=np.arange(1000)\n",
    "plt.bar(x_f,y,width=1/1000)"
   ]
  },
  {
   "cell_type": "code",
   "execution_count": 4,
   "id": "1d130156-5778-438c-8170-bf2d83dcafa3",
   "metadata": {},
   "outputs": [],
   "source": [
    "plt.style.use('seaborn-talk')\n",
    "matplotlib.rcParams['axes.labelsize'] = 20\n",
    "matplotlib.rcParams['axes.titlesize'] = 24\n",
    "matplotlib.rcParams['xtick.labelsize'] = 20\n",
    "matplotlib.rcParams['xtick.major.size'] = 10\n",
    "matplotlib.rcParams['xtick.minor.size'] = 5\n",
    "matplotlib.rcParams['ytick.labelsize'] = 20\n",
    "matplotlib.rcParams['ytick.major.size'] = 10"
   ]
  },
  {
   "cell_type": "code",
   "execution_count": 5,
   "id": "4fc80a67-eb38-4c2c-9b9e-2c01fb959fdc",
   "metadata": {},
   "outputs": [],
   "source": [
    "def migration_matrix(length, migration_rate):\n",
    "    first_col = np.zeros(length)\n",
    "    first_col[1] = migration_rate\n",
    "    first_col[-1] = migration_rate\n",
    "    result = scipy.linalg.circulant(first_col)\n",
    "    return result"
   ]
  },
  {
   "cell_type": "code",
   "execution_count": 6,
   "id": "1302d10e-0e35-4f6d-a5bb-d0645dc24142",
   "metadata": {},
   "outputs": [
    {
     "name": "stdout",
     "output_type": "stream",
     "text": [
      "we want 1 <<< m*deme_density <<< number of demes to keep continous structure\n",
      "1 <<<  0.1  <<<  1000\n"
     ]
    }
   ],
   "source": [
    "Deme_density = 50\n",
    "L = 1000 #the number of demes \n",
    "deme_sample_size = Deme_density #deme sample size \n",
    "trials = 50 #number of trials\n",
    "m = 0.002 #migration rate\n",
    "total_sample_size = L * deme_sample_size # total sample size\n",
    "matrix = migration_matrix(L, m/2)\n",
    "total_population_size=L * Deme_density\n",
    "\n",
    "population_configurations = L * [msprime.PopulationConfiguration(sample_size=deme_sample_size)]\n",
    "\n",
    "print(\"we want 1 <<< m*deme_density <<< number of demes to keep continous structure\")\n",
    "print(\"1 <<< \",m*Deme_density,\" <<< \",L )\n",
    "    "
   ]
  },
  {
   "cell_type": "code",
   "execution_count": 7,
   "id": "8cc687d1-f6fe-4cad-be56-bceac1ef5f53",
   "metadata": {},
   "outputs": [
    {
     "data": {
      "text/plain": [
       "1000"
      ]
     },
     "execution_count": 7,
     "metadata": {},
     "output_type": "execute_result"
    }
   ],
   "source": [
    "len(population_configurations)"
   ]
  },
  {
   "cell_type": "code",
   "execution_count": 8,
   "id": "6c7332e1-7c5b-4128-ab98-0364dd5c3e74",
   "metadata": {},
   "outputs": [
    {
     "name": "stdout",
     "output_type": "stream",
     "text": [
      "The effective population size via Maruyama equation is:  25330295.910584442\n",
      "The real population size is 50000\n"
     ]
    }
   ],
   "source": [
    "Effective_pop = L**2 / (2 * m * np.pi**2)\n",
    "print(\"The effective population size via Maruyama equation is: \", Effective_pop)\n",
    "real_pop = L*Deme_density\n",
    "print(\"The real population size is\", real_pop)\n",
    "\n",
    "# Since we're using branch lengths, the mutation rate is 1\n",
    "Theta_eff = 4 * Effective_pop\n",
    "Theta_real = 4 * real_pop\n"
   ]
  },
  {
   "cell_type": "code",
   "execution_count": 9,
   "id": "62db62b8-08a2-4d3b-b03a-d4ccfb776161",
   "metadata": {},
   "outputs": [],
   "source": [
    "def smooth(x, threshold=100, rescale=2):\n",
    "    return [np.mean(x[max(i - (rescale * i) // threshold, 0) : min(i + 1 + (rescale * i) // threshold, len(x))]) for i in range(len(x))]\n",
    "\n",
    "\n"
   ]
  },
  {
   "cell_type": "code",
   "execution_count": 10,
   "id": "ad9a3e46-d870-4980-b8e7-f52f7672bfe6",
   "metadata": {},
   "outputs": [
    {
     "name": "stdout",
     "output_type": "stream",
     "text": [
      "0.001\n"
     ]
    }
   ],
   "source": [
    "transition_freq=(max(Deme_density,(m*Deme_density**2))/total_population_size)\n",
    "print(transition_freq)"
   ]
  },
  {
   "cell_type": "code",
   "execution_count": 11,
   "id": "6931d480-ae16-4733-8c52-8a583838cb59",
   "metadata": {},
   "outputs": [],
   "source": [
    "leaf_list=[[0]]\n",
    "for i in range (1,total_sample_size):\n",
    "    leaf_list.append([i])"
   ]
  },
  {
   "cell_type": "code",
   "execution_count": 12,
   "id": "111b9b95-b66b-409e-a44f-771a5853890a",
   "metadata": {},
   "outputs": [],
   "source": [
    "def get_unique_numbers(numbers):\n",
    "\n",
    "    list_of_unique_numbers = []\n",
    "\n",
    "    unique_numbers = set(numbers)\n",
    "\n",
    "    for number in unique_numbers:\n",
    "        list_of_unique_numbers.append(number)\n",
    "\n",
    "    return list_of_unique_numbers"
   ]
  },
  {
   "cell_type": "code",
   "execution_count": 13,
   "id": "a982e7ca-288c-49bf-a2be-3839eb35f033",
   "metadata": {},
   "outputs": [
    {
     "name": "stdout",
     "output_type": "stream",
     "text": [
      "iteration 0\n"
     ]
    },
    {
     "name": "stderr",
     "output_type": "stream",
     "text": [
      "The provenance information for the resulting tree sequence is 4.91MB. This is nothing to worry about as provenance is a good thing to have, but if you want to save this memory/storage space you can disable provenance recording by setting record_provenance=False\n"
     ]
    },
    {
     "data": {
      "image/png": "[encoded data removed]",
      "text/plain": [
       "<Figure size 748.8x514.8 with 1 Axes>"
      ]
     },
     "metadata": {
      "needs_background": "light"
     },
     "output_type": "display_data"
    }
   ],
   "source": [
    "q=[ [0]*int(total_sample_size+1) for i in range(2*total_sample_size-1)]\n",
    "afs2 = []\n",
    "#a2=[]\n",
    "mean_hz=[]\n",
    "pooled_f=[]\n",
    "for i in range(1):\n",
    "    print(\"iteration\",i)\n",
    "    ts = msprime.simulate(Ne=Deme_density, population_configurations=population_configurations, migration_matrix=matrix)\n",
    "   \n",
    "    a=ts.mean_descendants(leaf_list) #Finds the descendants for each trial and sums them up\n",
    "\n",
    "    afs1 = ts.allele_frequency_spectrum(mode=\"branch\", polarised=True, span_normalise=False)\n",
    "    \n",
    "    afs2.append(afs1)\n",
    "  \n",
    "\n",
    "        \n",
    "    #transition zone\n",
    "    num_desc  = a.sum(axis=1)\n",
    "    #print(num_desc)\n",
    "    index_vals=[]\n",
    "    count_vals=[]\n",
    "    min_transition_zone=0 # transition frequency formula\n",
    "    max_transition_zone=total_sample_size\n",
    "    for j in range(len(num_desc)):\n",
    "        if min_transition_zone<=num_desc[j]<=max_transition_zone:\n",
    "            index_vals.append(j)\n",
    "            count_vals.append(num_desc[j])\n",
    "    #print(count_vals)        \n",
    "    ######\n",
    "    \n",
    "    transition_desc=[]\n",
    "\n",
    "    for i in range(len(index_vals)):\n",
    "        transition_desc.append(a[int(index_vals[i])])\n",
    "    #print(transition_desc)\n",
    "    #print(len(transition_desc[0]))\n",
    "    #print(len(transition_desc[1]))\n",
    "    #np.savetxt(\"transition_zone_desc.csv\", transition_desc , delimiter=\",\")\n",
    "    \n",
    "    ######\n",
    "    \n",
    "    spatial_transition = [ []*1 for i in range(len(transition_desc))]\n",
    "    for r in range(len(transition_desc)):\n",
    "        for t in range(len(transition_desc[r])):\n",
    "            if transition_desc[r][t]>0:\n",
    "                spatial_transition[r].append(t)\n",
    "\n",
    "\n",
    "    #np.savetxt(\"spatial_transition.csv\", spatial_transition ,fmt=\"%s\", delimiter=\",\")\n",
    "    \n",
    "    ######\n",
    "    \n",
    "    demes=spatial_transition\n",
    "    for i in range(len(demes)):\n",
    "        for j in range(len(demes[i])):\n",
    "            demes[i][j]=demes[i][j]//deme_sample_size # divides and rounds down to allocate into demes (0-1000)\n",
    "  \n",
    "\n",
    "    #np.savetxt(\"demes_transition.csv\", demes ,fmt=\"%s\", delimiter=\",\")\n",
    "    \n",
    "    \n",
    "    ######\n",
    "    \n",
    "    #print(len(demes))\n",
    "    freq=np.array(count_vals)\n",
    "    #print(count_vals)\n",
    "    #print(freq)\n",
    "    freq=freq/(total_sample_size)\n",
    "    \n",
    "    #print(\"frequency\")\n",
    "    #print(freq)\n",
    "    \n",
    "    #print(\"count_vals\")\n",
    "    #print(count_vals)\n",
    "    \n",
    "    dist=np.linspace(0,len(demes)-1,len(demes)-1)\n",
    "    #print(dist)\n",
    "\n",
    "    #print(demes)\n",
    "    #print(len(demes))\n",
    "    ######\n",
    "    base_width=[0]\n",
    "    frequency=[0]\n",
    "    demes_trans=[]\n",
    "    for m in range(len(dist)):\n",
    "        counter=collections.Counter(demes[int(dist[m])])\n",
    "        z=list(counter.values())\n",
    "        x=get_unique_numbers(demes[int(dist[m])])\n",
    "        demes_trans.append(z)\n",
    "        #print(z)\n",
    "        #print(x)\n",
    "        base_width.append(len(x)) \n",
    "        frequency.append(freq[int(dist[m])])\n",
    "        #plt.bar(x,z,width=1.0)\n",
    "        #lt.xlim(0,1000)\n",
    "        #plt.xlabel(\"Deme Number\")\n",
    "        #plt.ylabel(\"Number of Descendants\")\n",
    "        #plt.title(\"Spatial distribution of branch of allele frequency \" + str(freq[int(dist[i])]))\n",
    "        #plt.figure()\n",
    "        #plt.show()\n",
    "        \n",
    "  \n",
    "        final_z=np.zeros(L)\n",
    "        for k in range (len(final_z)):\n",
    "            for l in range(len(x)):\n",
    "                if k==x[l]:\n",
    "                    final_z[k]=z[l]\n",
    "        final_z=final_z/deme_sample_size\n",
    "        (unique, counts) = np.unique(final_z, return_counts=True)\n",
    "        frequencies = np.asarray((unique, counts)).T\n",
    "        a,b=zip(*frequencies)\n",
    "        b=np.array(b)\n",
    "        b=b/L\n",
    "        plt.bar(a,b,width=1/deme_sample_size)\n",
    "        weights=np.array(b)\n",
    "        f=np.array(a)\n",
    "        alt_f=np.array(f)\n",
    "        for p in range(len(f)):\n",
    "            alt_f[p]=1-f[p]\n",
    "        hetero=2*f*alt_f \n",
    "        #print(hetero)\n",
    "        mean_hetero=weights*hetero   \n",
    "        pooled_f.append(freq[int(dist[m])])\n",
    "        mean_hz.append(sum(mean_hetero))\n",
    "        #plt.title(\"Proportion of demes with given deme allele frequency and pooled allele frequency \" + str(freq[int(dist[m])]))\n",
    "        #plt.xlabel(\"Frequency within deme\")\n",
    "        #plt.ylabel(\"Proportion of total demes\")\n",
    "        #plt.figure()\n",
    "        #plt.show()\n",
    "  \n",
    "\n",
    "\n",
    "  \n",
    "    \n",
    "\n",
    "#b=np.mean(a2,0)\n",
    "\n",
    "#b=a/trials #Divides the sum of the  descendants by the number of trials to find the expected number of descendants per node"
   ]
  },
  {
   "cell_type": "code",
   "execution_count": 14,
   "id": "78fe6d52-7002-45d9-976a-15f7038a928e",
   "metadata": {},
   "outputs": [],
   "source": [
    "pooled_f=np.array(pooled_f)"
   ]
  },
  {
   "cell_type": "markdown",
   "id": "cce4254a-ffcf-4695-aeb1-b7b2188da82c",
   "metadata": {},
   "source": [
    "### Raw data + graphs"
   ]
  },
  {
   "cell_type": "code",
   "execution_count": 15,
   "id": "dffa47e9-9543-4a89-9aac-dad2492f46ca",
   "metadata": {},
   "outputs": [
    {
     "name": "stdout",
     "output_type": "stream",
     "text": [
      "       3.92e-05\n",
      "0      0.000039\n",
      "1      0.000039\n",
      "2      0.000039\n",
      "3      0.000039\n",
      "4      0.000039\n",
      "...         ...\n",
      "99992  0.068439\n",
      "99993  0.074650\n",
      "99994  0.042046\n",
      "99995  0.035158\n",
      "99996  0.000000\n",
      "\n",
      "[99997 rows x 1 columns]\n"
     ]
    }
   ],
   "source": [
    "np.savetxt('heterozygosity_mrho_lessthan_one.csv', mean_hz, delimiter=',')\n",
    "np.savetxt('pooled_af_heteromrholess.csv', pooled_f, delemiter=',')\n",
    "#print(mean_hz)\n",
    "#print(pooled_f)"
   ]
  },
  {
   "cell_type": "code",
   "execution_count": 31,
   "id": "65a0c3a7-3f1f-4285-bd77-032e483dedf5",
   "metadata": {},
   "outputs": [
    {
     "data": {
      "image/png": "[encoded data removed]",
      "text/plain": [
       "<Figure size 748.8x514.8 with 1 Axes>"
      ]
     },
     "metadata": {
      "needs_background": "light"
     },
     "output_type": "display_data"
    }
   ],
   "source": [
    "plt.loglog(pooled_f,2*pooled_f*(1-pooled_f),'o', label=\"Heterozygosity = 2*(pooled frequency)(1-pooled frequency)\")\n",
    "plt.loglog(pooled_f, mean_hz,'o', label=\"Heterozygosity of population \")\n",
    "plt.axvline(transition_freq,color='purple',linestyle = '--')\n",
    "plt.xlabel('Pooled frequency')\n",
    "plt.ylabel('Mean heterozygosity across all demes')\n",
    "plt.text(0.000035,0.009,r\"Transition frequency = $\\dfrac{1}{L}$\",fontsize='12')\n",
    "plt.title('L=1000, rho=50, m=0.002')\n",
    "plt.legend(prop={\"size\":10.5})\n",
    "#plt.legend([\"2*(pooled frequency)(1-pooled frequency)\", \"Heterozygosity of population \", 'Transition frequency'], loc =\"upper left\")\n",
    "plt.savefig(\"Hetero_mrholess.pdf\")"
   ]
  },
  {
   "cell_type": "markdown",
   "id": "7318479e-ba98-4107-a037-1182a4b86685",
   "metadata": {},
   "source": []
  }
 ],
 "metadata": {
  "kernelspec": {
   "display_name": "Python 3",
   "language": "python",
   "name": "python3"
  },
  "language_info": {
   "codemirror_mode": {
    "name": "ipython",
    "version": 3
   },
   "file_extension": ".py",
   "mimetype": "text/x-python",
   "name": "python",
   "nbconvert_exporter": "python",
   "pygments_lexer": "ipython3",
   "version": "3.8.8"
  }
 },
 "nbformat": 4,
 "nbformat_minor": 5
}
