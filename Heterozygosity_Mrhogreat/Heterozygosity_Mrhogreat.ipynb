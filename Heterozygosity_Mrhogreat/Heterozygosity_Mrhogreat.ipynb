{
 "cells": [
  {
   "cell_type": "markdown",
   "id": "a6376e9f-347c-498f-9070-def20deb8679",
   "metadata": {},
   "source": [
    "# Instructions: \n",
    "##### To just produce final graph(s) as seen in the paper, run cells in \"Section 1: Setup\" and \"Section 2: Final Graph(s)\" section only, ignore the \"Section 3: Simulations \"\n",
    "##### To run the simulations and produce your own data, run the whole notebook"
   ]
  },
  {
   "cell_type": "markdown",
   "id": "abf84a38-ac84-4bb3-8d9c-ae9c0e5ed3b8",
   "metadata": {},
   "source": [
    "### Section 1: Setup"
   ]
  },
  {
   "cell_type": "code",
   "execution_count": 1,
   "id": "0c408658-4f2d-4bea-a85a-2c8c45ed432d",
   "metadata": {},
   "outputs": [],
   "source": [
    "from scipy.special import gamma, factorial\n",
    "import msprime\n",
    "import tskit\n",
    "import numpy as np\n",
    "import matplotlib.pyplot as plt\n",
    "import pandas as pd\n",
    "import pylab\n",
    "import scipy.linalg\n",
    "import matplotlib\n",
    "import csv\n",
    "import random\n",
    "from itertools import groupby\n",
    "import collections"
   ]
  },
  {
   "cell_type": "markdown",
   "id": "96974e44-5607-40ef-9264-18e0f9523bf3",
   "metadata": {},
   "source": [
    "### Simulating a 1-D system where m*rho << 1 (Should take 5-10 min to run at max)"
   ]
  },
  {
   "cell_type": "code",
   "execution_count": 2,
   "id": "1d130156-5778-438c-8170-bf2d83dcafa3",
   "metadata": {},
   "outputs": [
    {
     "name": "stdout",
     "output_type": "stream",
     "text": [
      "we want 1 <<< m*deme_density <<< number of demes to keep continous structure\n",
      "1 <<<  10.0  <<<  1000\n",
      "0.01\n"
     ]
    }
   ],
   "source": [
    "plt.style.use('seaborn-talk')\n",
    "matplotlib.rcParams['axes.labelsize'] = 20\n",
    "matplotlib.rcParams['axes.titlesize'] = 24\n",
    "matplotlib.rcParams['xtick.labelsize'] = 20\n",
    "matplotlib.rcParams['xtick.major.size'] = 10\n",
    "matplotlib.rcParams['xtick.minor.size'] = 5\n",
    "matplotlib.rcParams['ytick.labelsize'] = 20\n",
    "matplotlib.rcParams['ytick.major.size'] = 10\n",
    "\n",
    "def migration_matrix(length, migration_rate):\n",
    "    first_col = np.zeros(length)\n",
    "    first_col[1] = migration_rate\n",
    "    first_col[-1] = migration_rate\n",
    "    result = scipy.linalg.circulant(first_col)\n",
    "    return result\n",
    "\n",
    "Deme_density = 50\n",
    "L = 1000 #the number of demes \n",
    "deme_sample_size = Deme_density #deme sample size \n",
    "trials = 50 #number of trials\n",
    "m = 0.2 #migration rate\n",
    "total_sample_size = L * deme_sample_size # total sample size\n",
    "matrix = migration_matrix(L, m/2)\n",
    "total_population_size=L * Deme_density\n",
    "\n",
    "population_configurations = L * [msprime.PopulationConfiguration(sample_size=deme_sample_size)]\n",
    "\n",
    "print(\"we want 1 <<< m*deme_density <<< number of demes to keep continous structure\")\n",
    "print(\"1 <<< \",m*Deme_density,\" <<< \",L )\n",
    "\n",
    "transition_freq=(max(Deme_density,(m*Deme_density**2))/total_population_size)\n",
    "print(transition_freq)"
   ]
  },
  {
   "cell_type": "markdown",
   "id": "9f42318f-aa30-4248-9a73-18f55dd95e43",
   "metadata": {},
   "source": [
    "### Section 2: Simulation"
   ]
  },
  {
   "cell_type": "code",
   "execution_count": 8,
   "id": "6931d480-ae16-4733-8c52-8a583838cb59",
   "metadata": {},
   "outputs": [],
   "source": [
    "leaf_list=[[0]]\n",
    "for i in range (1,total_sample_size):\n",
    "    leaf_list.append([i])"
   ]
  },
  {
   "cell_type": "code",
   "execution_count": 9,
   "id": "111b9b95-b66b-409e-a44f-771a5853890a",
   "metadata": {},
   "outputs": [],
   "source": [
    "def get_unique_numbers(numbers):\n",
    "\n",
    "    list_of_unique_numbers = []\n",
    "\n",
    "    unique_numbers = set(numbers)\n",
    "\n",
    "    for number in unique_numbers:\n",
    "        list_of_unique_numbers.append(number)\n",
    "\n",
    "    return list_of_unique_numbers"
   ]
  },
  {
   "cell_type": "code",
   "execution_count": null,
   "id": "a982e7ca-288c-49bf-a2be-3839eb35f033",
   "metadata": {},
   "outputs": [],
   "source": [
    "q=[ [0]*int(total_sample_size+1) for i in range(2*total_sample_size-1)]\n",
    "afs2 = []\n",
    "#a2=[]\n",
    "mean_hz=[]\n",
    "pooled_f=[]\n",
    "for i in range(1):\n",
    "    print(\"iteration\",i)\n",
    "    ts = msprime.simulate(Ne=Deme_density, population_configurations=population_configurations, migration_matrix=matrix,record_provenance=False)\n",
    "   \n",
    "    a=ts.mean_descendants(leaf_list) #Finds the descendants for each trial and sums them up\n",
    "\n",
    "    afs1 = ts.allele_frequency_spectrum(mode=\"branch\", polarised=True, span_normalise=False)\n",
    "    \n",
    "    afs2.append(afs1)\n",
    "  \n",
    "\n",
    "        \n",
    "    #transition zone\n",
    "    num_desc  = a.sum(axis=1)\n",
    "    #print(num_desc)\n",
    "    index_vals=[]\n",
    "    count_vals=[]\n",
    "    min_transition_zone=0 # transition frequency formula\n",
    "    max_transition_zone=total_sample_size\n",
    "    for j in range(len(num_desc)):\n",
    "        if min_transition_zone<=num_desc[j]<=max_transition_zone:\n",
    "            index_vals.append(j)\n",
    "            count_vals.append(num_desc[j])\n",
    "    #print(count_vals)        \n",
    "    ######\n",
    "    \n",
    "    transition_desc=[]\n",
    "\n",
    "    for i in range(len(index_vals)):\n",
    "        transition_desc.append(a[int(index_vals[i])])\n",
    "    #print(transition_desc)\n",
    "    #print(len(transition_desc[0]))\n",
    "    #print(len(transition_desc[1]))\n",
    "    #np.savetxt(\"transition_zone_desc.csv\", transition_desc , delimiter=\",\")\n",
    "    \n",
    "    ######\n",
    "    \n",
    "    spatial_transition = [ []*1 for i in range(len(transition_desc))]\n",
    "    for r in range(len(transition_desc)):\n",
    "        for t in range(len(transition_desc[r])):\n",
    "            if transition_desc[r][t]>0:\n",
    "                spatial_transition[r].append(t)\n",
    "\n",
    "\n",
    "    #np.savetxt(\"spatial_transition.csv\", spatial_transition ,fmt=\"%s\", delimiter=\",\")\n",
    "    \n",
    "    ######\n",
    "    \n",
    "    demes=spatial_transition\n",
    "    for i in range(len(demes)):\n",
    "        for j in range(len(demes[i])):\n",
    "            demes[i][j]=demes[i][j]//deme_sample_size # divides and rounds down to allocate into demes (0-1000)\n",
    "  \n",
    "\n",
    "    #np.savetxt(\"demes_transition.csv\", demes ,fmt=\"%s\", delimiter=\",\")\n",
    "    \n",
    "    \n",
    "    ######\n",
    "    \n",
    "    #print(len(demes))\n",
    "    freq=np.array(count_vals)\n",
    "    #print(count_vals)\n",
    "    #print(freq)\n",
    "    freq=freq/(total_sample_size)\n",
    "    \n",
    "    #print(\"frequency\")\n",
    "    #print(freq)\n",
    "    \n",
    "    #print(\"count_vals\")\n",
    "    #print(count_vals)\n",
    "    \n",
    "    dist=np.linspace(0,len(demes)-1,len(demes)-1)\n",
    "    #print(dist)\n",
    "\n",
    "    #print(demes)\n",
    "    #print(len(demes))\n",
    "    ######\n",
    "    base_width=[0]\n",
    "    frequency=[0]\n",
    "    demes_trans=[]\n",
    "    for m in range(len(dist)):\n",
    "        counter=collections.Counter(demes[int(dist[m])])\n",
    "        z=list(counter.values())\n",
    "        x=get_unique_numbers(demes[int(dist[m])])\n",
    "        demes_trans.append(z)\n",
    "        #print(z)\n",
    "        #print(x)\n",
    "        base_width.append(len(x)) \n",
    "        frequency.append(freq[int(dist[m])])\n",
    "        #plt.bar(x,z,width=1.0)\n",
    "        #lt.xlim(0,1000)\n",
    "        #plt.xlabel(\"Deme Number\")\n",
    "        #plt.ylabel(\"Number of Descendants\")\n",
    "        #plt.title(\"Spatial distribution of branch of allele frequency \" + str(freq[int(dist[i])]))\n",
    "        #plt.figure()\n",
    "        #plt.show()\n",
    "        \n",
    "  \n",
    "        final_z=np.zeros(L)\n",
    "        for k in range (len(final_z)):\n",
    "            for l in range(len(x)):\n",
    "                if k==x[l]:\n",
    "                    final_z[k]=z[l]\n",
    "        final_z=final_z/deme_sample_size\n",
    "        (unique, counts) = np.unique(final_z, return_counts=True)\n",
    "        frequencies = np.asarray((unique, counts)).T\n",
    "        a,b=zip(*frequencies)\n",
    "        b=np.array(b)\n",
    "        b=b/L\n",
    "        plt.bar(a,b,width=1/deme_sample_size)\n",
    "        weights=np.array(b)\n",
    "        f=np.array(a)\n",
    "        alt_f=np.array(f)\n",
    "        for p in range(len(f)):\n",
    "            alt_f[p]=1-f[p]\n",
    "        hetero=2*f*alt_f \n",
    "        #print(hetero)\n",
    "        mean_hetero=weights*hetero   \n",
    "        pooled_f.append(freq[int(dist[m])])\n",
    "        mean_hz.append(sum(mean_hetero))\n",
    "        #plt.title(\"Proportion of demes with given deme allele frequency and pooled allele frequency \" + str(freq[int(dist[m])]))\n",
    "        #plt.xlabel(\"Frequency within deme\")\n",
    "        #plt.ylabel(\"Proportion of total demes\")\n",
    "        #plt.figure()\n",
    "        #plt.show()\n",
    "  \n",
    "\n",
    "\n",
    "  \n",
    "    \n",
    "\n",
    "#b=np.mean(a2,0)\n",
    "\n",
    "#b=a/trials #Divides the sum of the  descendants by the number of trials to find the expected number of descendants per node"
   ]
  },
  {
   "cell_type": "code",
   "execution_count": null,
   "id": "dffa47e9-9543-4a89-9aac-dad2492f46ca",
   "metadata": {},
   "outputs": [],
   "source": [
    "np.savetxt('heterozygosity_mrho_greaterthan_one.csv', mean_hz, delimiter=',')\n",
    "np.savetxt('pooled_af_heteromrhogreat.csv', pooled_f, delimiter=',')\n",
    "#print(mean_hz)\n",
    "#print(pooled_f)"
   ]
  },
  {
   "cell_type": "markdown",
   "id": "e58940d8-486d-49c8-97ef-77f27857c120",
   "metadata": {},
   "source": [
    "### Section 3: Graphs"
   ]
  },
  {
   "cell_type": "code",
   "execution_count": 12,
   "id": "65a0c3a7-3f1f-4285-bd77-032e483dedf5",
   "metadata": {},
   "outputs": [
    {
     "data": {
      "image/png": "[encoded data removed]",
      "text/plain": [
       "<Figure size 748.8x514.8 with 1 Axes>"
      ]
     },
     "metadata": {
      "needs_background": "light"
     },
     "output_type": "display_data"
    }
   ],
   "source": [
    "mean_frequency= pd.read_csv('heterozygosity_mrho_greaterthan_one.csv')\n",
    "p_f=pd.read_csv('pooled_af_heteromrhogreat.csv')\n",
    "plt.loglog(p_f,2*p_f*(1-p_f),'o', label=\"2*(f)(1-f)\")\n",
    "plt.loglog(p_f, mean_frequency,'o', label=\"Simulation\")\n",
    "plt.axvline(transition_freq,color='purple',linestyle = '--')\n",
    "plt.xlabel('Pooled frequency')\n",
    "plt.ylabel('Mean heterozygosity across all demes')\n",
    "plt.text(0.012,0.00009,r\"Transition frequency = $\\dfrac{m\\rho}{L}$\",fontsize='14.5')\n",
    "plt.title('L=1000, rho=50, m=0.002')\n",
    "plt.legend(prop={\"size\":17.5})\n",
    "#plt.legend([\"2*(pooled frequency)(1-pooled frequency)\", \"Heterozygosity of population \", 'Transition frequency'], loc =\"upper left\")\n",
    "plt.savefig(\"Hetero_mrhogreat.pdf\")"
   ]
  },
  {
   "cell_type": "markdown",
   "id": "7318479e-ba98-4107-a037-1182a4b86685",
   "metadata": {},
   "source": []
  }
 ],
 "metadata": {
  "kernelspec": {
   "display_name": "Python 3",
   "language": "python",
   "name": "python3"
  },
  "language_info": {
   "codemirror_mode": {
    "name": "ipython",
    "version": 3
   },
   "file_extension": ".py",
   "mimetype": "text/x-python",
   "name": "python",
   "nbconvert_exporter": "python",
   "pygments_lexer": "ipython3",
   "version": "3.8.8"
  }
 },
 "nbformat": 4,
 "nbformat_minor": 5
}
