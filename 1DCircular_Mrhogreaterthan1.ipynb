{
 "cells": [
  {
   "cell_type": "code",
   "execution_count": 2,
   "id": "3276ad4f-d010-4ec8-891a-c5730ced9bc2",
   "metadata": {},
   "outputs": [],
   "source": [
    "from scipy import stats"
   ]
  },
  {
   "cell_type": "code",
   "execution_count": 3,
   "id": "a2df8e9f-1ca3-41ba-85b6-ecd7e899812b",
   "metadata": {},
   "outputs": [],
   "source": [
    "from scipy.special import gamma, factorial"
   ]
  },
  {
   "cell_type": "code",
   "execution_count": 4,
   "id": "0c408658-4f2d-4bea-a85a-2c8c45ed432d",
   "metadata": {},
   "outputs": [],
   "source": [
    "import msprime\n",
    "import tskit\n",
    "import numpy as np\n",
    "import matplotlib.pyplot as plt\n",
    "import pandas as pd\n",
    "import pylab\n",
    "import scipy.linalg\n",
    "import matplotlib\n",
    "import csv\n",
    "import random\n",
    "from itertools import groupby\n",
    "import collections"
   ]
  },
  {
   "cell_type": "markdown",
   "id": "69cf6197-110d-4770-bee8-2100a62fa6aa",
   "metadata": {},
   "source": [
    "### Creating 1-D Circular Migration Matrix and Setting Variables m*rho>>1"
   ]
  },
  {
   "cell_type": "code",
   "execution_count": 5,
   "id": "1d130156-5778-438c-8170-bf2d83dcafa3",
   "metadata": {},
   "outputs": [],
   "source": [
    "plt.style.use('seaborn-talk')\n",
    "matplotlib.rcParams['axes.labelsize'] = 20\n",
    "matplotlib.rcParams['axes.titlesize'] = 24\n",
    "matplotlib.rcParams['xtick.labelsize'] = 20\n",
    "matplotlib.rcParams['xtick.major.size'] = 10\n",
    "matplotlib.rcParams['xtick.minor.size'] = 5\n",
    "matplotlib.rcParams['ytick.labelsize'] = 20\n",
    "matplotlib.rcParams['ytick.major.size'] = 10"
   ]
  },
  {
   "cell_type": "code",
   "execution_count": 6,
   "id": "4fc80a67-eb38-4c2c-9b9e-2c01fb959fdc",
   "metadata": {},
   "outputs": [],
   "source": [
    "def migration_matrix(length, migration_rate):\n",
    "    first_col = np.zeros(length)\n",
    "    first_col[1] = migration_rate\n",
    "    first_col[-1] = migration_rate\n",
    "    result = scipy.linalg.circulant(first_col)\n",
    "    return result"
   ]
  },
  {
   "cell_type": "code",
   "execution_count": 7,
   "id": "1302d10e-0e35-4f6d-a5bb-d0645dc24142",
   "metadata": {},
   "outputs": [
    {
     "name": "stdout",
     "output_type": "stream",
     "text": [
      "we want 1 <<< m*deme_density <<< number of demes to keep continous structure\n",
      "1 <<<  10.0  <<<  1000\n"
     ]
    }
   ],
   "source": [
    "Deme_density = 50\n",
    "L = 1000 #the number of demes \n",
    "deme_sample_size = Deme_density #deme sample size \n",
    "trials = 50 #number of trials\n",
    "m = 0.2 #migration rate\n",
    "total_sample_size = L * deme_sample_size # total sample size\n",
    "matrix = migration_matrix(L, m/2)\n",
    "\n",
    "population_configurations = L * [msprime.PopulationConfiguration(sample_size=deme_sample_size)]\n",
    "\n",
    "print(\"we want 1 <<< m*deme_density <<< number of demes to keep continous structure\")\n",
    "print(\"1 <<< \",m*Deme_density,\" <<< \",L )\n",
    "    "
   ]
  },
  {
   "cell_type": "markdown",
   "id": "ba6a1e70-eeaa-4e5a-b8ac-ac9629fc56cf",
   "metadata": {},
   "source": [
    "### Running Simulations "
   ]
  },
  {
   "cell_type": "code",
   "execution_count": 8,
   "id": "430b501e-f0ac-41a4-832f-efdff7002730",
   "metadata": {},
   "outputs": [
    {
     "name": "stderr",
     "output_type": "stream",
     "text": [
      "The provenance information for the resulting tree sequence is 4.90MB. This is nothing to worry about as provenance is a good thing to have, but if you want to save this memory/storage space you can disable provenance recording by setting record_provenance=False\n",
      "The provenance information for the resulting tree sequence is 4.90MB. This is nothing to worry about as provenance is a good thing to have, but if you want to save this memory/storage space you can disable provenance recording by setting record_provenance=False\n",
      "The provenance information for the resulting tree sequence is 4.90MB. This is nothing to worry about as provenance is a good thing to have, but if you want to save this memory/storage space you can disable provenance recording by setting record_provenance=False\n",
      "The provenance information for the resulting tree sequence is 4.90MB. This is nothing to worry about as provenance is a good thing to have, but if you want to save this memory/storage space you can disable provenance recording by setting record_provenance=False\n",
      "The provenance information for the resulting tree sequence is 4.90MB. This is nothing to worry about as provenance is a good thing to have, but if you want to save this memory/storage space you can disable provenance recording by setting record_provenance=False\n",
      "The provenance information for the resulting tree sequence is 4.90MB. This is nothing to worry about as provenance is a good thing to have, but if you want to save this memory/storage space you can disable provenance recording by setting record_provenance=False\n",
      "The provenance information for the resulting tree sequence is 4.90MB. This is nothing to worry about as provenance is a good thing to have, but if you want to save this memory/storage space you can disable provenance recording by setting record_provenance=False\n",
      "The provenance information for the resulting tree sequence is 4.90MB. This is nothing to worry about as provenance is a good thing to have, but if you want to save this memory/storage space you can disable provenance recording by setting record_provenance=False\n",
      "The provenance information for the resulting tree sequence is 4.90MB. This is nothing to worry about as provenance is a good thing to have, but if you want to save this memory/storage space you can disable provenance recording by setting record_provenance=False\n",
      "The provenance information for the resulting tree sequence is 4.90MB. This is nothing to worry about as provenance is a good thing to have, but if you want to save this memory/storage space you can disable provenance recording by setting record_provenance=False\n",
      "The provenance information for the resulting tree sequence is 4.90MB. This is nothing to worry about as provenance is a good thing to have, but if you want to save this memory/storage space you can disable provenance recording by setting record_provenance=False\n",
      "The provenance information for the resulting tree sequence is 4.90MB. This is nothing to worry about as provenance is a good thing to have, but if you want to save this memory/storage space you can disable provenance recording by setting record_provenance=False\n",
      "The provenance information for the resulting tree sequence is 4.90MB. This is nothing to worry about as provenance is a good thing to have, but if you want to save this memory/storage space you can disable provenance recording by setting record_provenance=False\n",
      "The provenance information for the resulting tree sequence is 4.90MB. This is nothing to worry about as provenance is a good thing to have, but if you want to save this memory/storage space you can disable provenance recording by setting record_provenance=False\n",
      "The provenance information for the resulting tree sequence is 4.90MB. This is nothing to worry about as provenance is a good thing to have, but if you want to save this memory/storage space you can disable provenance recording by setting record_provenance=False\n",
      "The provenance information for the resulting tree sequence is 4.90MB. This is nothing to worry about as provenance is a good thing to have, but if you want to save this memory/storage space you can disable provenance recording by setting record_provenance=False\n",
      "The provenance information for the resulting tree sequence is 4.90MB. This is nothing to worry about as provenance is a good thing to have, but if you want to save this memory/storage space you can disable provenance recording by setting record_provenance=False\n",
      "The provenance information for the resulting tree sequence is 4.90MB. This is nothing to worry about as provenance is a good thing to have, but if you want to save this memory/storage space you can disable provenance recording by setting record_provenance=False\n",
      "The provenance information for the resulting tree sequence is 4.90MB. This is nothing to worry about as provenance is a good thing to have, but if you want to save this memory/storage space you can disable provenance recording by setting record_provenance=False\n",
      "The provenance information for the resulting tree sequence is 4.90MB. This is nothing to worry about as provenance is a good thing to have, but if you want to save this memory/storage space you can disable provenance recording by setting record_provenance=False\n",
      "The provenance information for the resulting tree sequence is 4.90MB. This is nothing to worry about as provenance is a good thing to have, but if you want to save this memory/storage space you can disable provenance recording by setting record_provenance=False\n",
      "The provenance information for the resulting tree sequence is 4.90MB. This is nothing to worry about as provenance is a good thing to have, but if you want to save this memory/storage space you can disable provenance recording by setting record_provenance=False\n",
      "The provenance information for the resulting tree sequence is 4.90MB. This is nothing to worry about as provenance is a good thing to have, but if you want to save this memory/storage space you can disable provenance recording by setting record_provenance=False\n",
      "The provenance information for the resulting tree sequence is 4.90MB. This is nothing to worry about as provenance is a good thing to have, but if you want to save this memory/storage space you can disable provenance recording by setting record_provenance=False\n",
      "The provenance information for the resulting tree sequence is 4.90MB. This is nothing to worry about as provenance is a good thing to have, but if you want to save this memory/storage space you can disable provenance recording by setting record_provenance=False\n",
      "The provenance information for the resulting tree sequence is 4.90MB. This is nothing to worry about as provenance is a good thing to have, but if you want to save this memory/storage space you can disable provenance recording by setting record_provenance=False\n",
      "The provenance information for the resulting tree sequence is 4.90MB. This is nothing to worry about as provenance is a good thing to have, but if you want to save this memory/storage space you can disable provenance recording by setting record_provenance=False\n",
      "The provenance information for the resulting tree sequence is 4.90MB. This is nothing to worry about as provenance is a good thing to have, but if you want to save this memory/storage space you can disable provenance recording by setting record_provenance=False\n",
      "The provenance information for the resulting tree sequence is 4.90MB. This is nothing to worry about as provenance is a good thing to have, but if you want to save this memory/storage space you can disable provenance recording by setting record_provenance=False\n",
      "The provenance information for the resulting tree sequence is 4.90MB. This is nothing to worry about as provenance is a good thing to have, but if you want to save this memory/storage space you can disable provenance recording by setting record_provenance=False\n",
      "The provenance information for the resulting tree sequence is 4.90MB. This is nothing to worry about as provenance is a good thing to have, but if you want to save this memory/storage space you can disable provenance recording by setting record_provenance=False\n",
      "The provenance information for the resulting tree sequence is 4.90MB. This is nothing to worry about as provenance is a good thing to have, but if you want to save this memory/storage space you can disable provenance recording by setting record_provenance=False\n",
      "The provenance information for the resulting tree sequence is 4.90MB. This is nothing to worry about as provenance is a good thing to have, but if you want to save this memory/storage space you can disable provenance recording by setting record_provenance=False\n",
      "The provenance information for the resulting tree sequence is 4.90MB. This is nothing to worry about as provenance is a good thing to have, but if you want to save this memory/storage space you can disable provenance recording by setting record_provenance=False\n",
      "The provenance information for the resulting tree sequence is 4.90MB. This is nothing to worry about as provenance is a good thing to have, but if you want to save this memory/storage space you can disable provenance recording by setting record_provenance=False\n",
      "The provenance information for the resulting tree sequence is 4.90MB. This is nothing to worry about as provenance is a good thing to have, but if you want to save this memory/storage space you can disable provenance recording by setting record_provenance=False\n",
      "The provenance information for the resulting tree sequence is 4.90MB. This is nothing to worry about as provenance is a good thing to have, but if you want to save this memory/storage space you can disable provenance recording by setting record_provenance=False\n",
      "The provenance information for the resulting tree sequence is 4.90MB. This is nothing to worry about as provenance is a good thing to have, but if you want to save this memory/storage space you can disable provenance recording by setting record_provenance=False\n",
      "The provenance information for the resulting tree sequence is 4.90MB. This is nothing to worry about as provenance is a good thing to have, but if you want to save this memory/storage space you can disable provenance recording by setting record_provenance=False\n",
      "The provenance information for the resulting tree sequence is 4.90MB. This is nothing to worry about as provenance is a good thing to have, but if you want to save this memory/storage space you can disable provenance recording by setting record_provenance=False\n",
      "The provenance information for the resulting tree sequence is 4.90MB. This is nothing to worry about as provenance is a good thing to have, but if you want to save this memory/storage space you can disable provenance recording by setting record_provenance=False\n",
      "The provenance information for the resulting tree sequence is 4.90MB. This is nothing to worry about as provenance is a good thing to have, but if you want to save this memory/storage space you can disable provenance recording by setting record_provenance=False\n",
      "The provenance information for the resulting tree sequence is 4.90MB. This is nothing to worry about as provenance is a good thing to have, but if you want to save this memory/storage space you can disable provenance recording by setting record_provenance=False\n",
      "The provenance information for the resulting tree sequence is 4.90MB. This is nothing to worry about as provenance is a good thing to have, but if you want to save this memory/storage space you can disable provenance recording by setting record_provenance=False\n",
      "The provenance information for the resulting tree sequence is 4.90MB. This is nothing to worry about as provenance is a good thing to have, but if you want to save this memory/storage space you can disable provenance recording by setting record_provenance=False\n",
      "The provenance information for the resulting tree sequence is 4.90MB. This is nothing to worry about as provenance is a good thing to have, but if you want to save this memory/storage space you can disable provenance recording by setting record_provenance=False\n",
      "The provenance information for the resulting tree sequence is 4.90MB. This is nothing to worry about as provenance is a good thing to have, but if you want to save this memory/storage space you can disable provenance recording by setting record_provenance=False\n",
      "The provenance information for the resulting tree sequence is 4.90MB. This is nothing to worry about as provenance is a good thing to have, but if you want to save this memory/storage space you can disable provenance recording by setting record_provenance=False\n",
      "The provenance information for the resulting tree sequence is 4.90MB. This is nothing to worry about as provenance is a good thing to have, but if you want to save this memory/storage space you can disable provenance recording by setting record_provenance=False\n",
      "The provenance information for the resulting tree sequence is 4.90MB. This is nothing to worry about as provenance is a good thing to have, but if you want to save this memory/storage space you can disable provenance recording by setting record_provenance=False\n"
     ]
    }
   ],
   "source": [
    "afs2 = []\n",
    "\n",
    "for i in range(trials):\n",
    "    ts = msprime.simulate(Ne=Deme_density, population_configurations=population_configurations, migration_matrix=matrix)\n",
    "\n",
    "    afs1 = ts.allele_frequency_spectrum(mode=\"branch\", polarised=True, span_normalise=False)\n",
    "    \n",
    "    afs2.append(afs1)\n",
    "    \n",
    "    #print(\"iteration\",i)\n",
    "    \n",
    "afs = np.mean(afs2, 0)"
   ]
  },
  {
   "cell_type": "code",
   "execution_count": 9,
   "id": "673b1296-ec12-472e-94ff-292182642395",
   "metadata": {},
   "outputs": [],
   "source": [
    "#print(afs2)\n",
    "#len(afs2[0])"
   ]
  },
  {
   "cell_type": "code",
   "execution_count": 10,
   "id": "6c7332e1-7c5b-4128-ab98-0364dd5c3e74",
   "metadata": {},
   "outputs": [
    {
     "name": "stdout",
     "output_type": "stream",
     "text": [
      "The effective population size via Maruyama equation is:  253302.95910584443\n",
      "The real population size is 50000\n"
     ]
    }
   ],
   "source": [
    "Effective_pop = L**2 / (2 * m * np.pi**2)\n",
    "print(\"The effective population size via Maruyama equation is: \", Effective_pop)\n",
    "real_pop = L*Deme_density\n",
    "print(\"The real population size is\", real_pop)\n",
    "\n",
    "# Since we're using branch lengths, the mutation rate is 1\n",
    "Theta_eff = 4 * Effective_pop\n",
    "Theta_real = 4 * real_pop\n"
   ]
  },
  {
   "cell_type": "code",
   "execution_count": 11,
   "id": "62db62b8-08a2-4d3b-b03a-d4ccfb776161",
   "metadata": {},
   "outputs": [],
   "source": [
    "def smooth(x, threshold, rescale):\n",
    "    return [np.mean(x[max(i - (rescale * i) // threshold, 0) : min(i + 1 + (rescale * i) // threshold, len(x))]) for i in range(len(x))]\n",
    "\n",
    "transition_freq=max(Deme_density,(m*Deme_density**2))/total_sample_size\n"
   ]
  },
  {
   "cell_type": "code",
   "execution_count": 12,
   "id": "4f9f8a64-55bc-48e6-ba55-7b5871e479c3",
   "metadata": {},
   "outputs": [],
   "source": [
    "def smooth_sem(x, threshold, rescale):\n",
    "        return [stats.sem(x[max(i - (rescale * i) // threshold, 0) : min(i + 1 + (rescale * i) // threshold, len(x))]) for i in range(len(x))]\n"
   ]
  },
  {
   "cell_type": "code",
   "execution_count": 13,
   "id": "b18d885e-1a0f-405b-82c0-982ea167a3cf",
   "metadata": {},
   "outputs": [],
   "source": [
    "thresh=1000\n",
    "scale=300"
   ]
  },
  {
   "cell_type": "code",
   "execution_count": 14,
   "id": "2fa1e047-c24e-466f-9830-82c7be75a981",
   "metadata": {},
   "outputs": [
    {
     "name": "stderr",
     "output_type": "stream",
     "text": [
      "C:\\Users\\arani\\anaconda3\\lib\\site-packages\\numpy\\core\\_methods.py:261: RuntimeWarning: Degrees of freedom <= 0 for slice\n",
      "  ret = _var(a, axis=axis, dtype=dtype, out=out, ddof=ddof,\n",
      "C:\\Users\\arani\\anaconda3\\lib\\site-packages\\numpy\\core\\_methods.py:253: RuntimeWarning: invalid value encountered in double_scalars\n",
      "  ret = ret.dtype.type(ret / rcount)\n"
     ]
    }
   ],
   "source": [
    "err=np.array(smooth_sem(afs[1:], threshold=thresh, rescale=scale))"
   ]
  },
  {
   "cell_type": "code",
   "execution_count": 15,
   "id": "bb832c25-b4ac-41ae-abc7-8aee4172e418",
   "metadata": {},
   "outputs": [
    {
     "data": {
      "text/plain": [
       "numpy.float64"
      ]
     },
     "execution_count": 15,
     "metadata": {},
     "output_type": "execute_result"
    }
   ],
   "source": [
    "#print(err)\n",
    "type(err[0])"
   ]
  },
  {
   "cell_type": "code",
   "execution_count": 16,
   "id": "24ca43d6-8cc5-4f91-aa9e-6f0bcf5126d9",
   "metadata": {},
   "outputs": [],
   "source": [
    "err[np.isnan(err)] = 0"
   ]
  },
  {
   "cell_type": "code",
   "execution_count": 17,
   "id": "9a4d3e14-38d9-4a2e-b4f8-1cf38be71d9a",
   "metadata": {},
   "outputs": [
    {
     "name": "stdout",
     "output_type": "stream",
     "text": [
      "[0.         0.         0.         ... 4.31494138 4.31522892 4.3155165 ]\n"
     ]
    }
   ],
   "source": [
    "print(err)"
   ]
  },
  {
   "cell_type": "code",
   "execution_count": 18,
   "id": "3cd56139-5769-4864-9e90-f19d8f87c570",
   "metadata": {},
   "outputs": [],
   "source": [
    "#print(smooth_std(afs[1:], threshold=thresh, rescale=scale))"
   ]
  },
  {
   "cell_type": "code",
   "execution_count": 21,
   "id": "4ad7e874-93ad-4935-94fe-55fbf1fde764",
   "metadata": {},
   "outputs": [
    {
     "name": "stderr",
     "output_type": "stream",
     "text": [
      "C:\\Users\\arani\\anaconda3\\lib\\site-packages\\numpy\\core\\_methods.py:261: RuntimeWarning: Degrees of freedom <= 0 for slice\n",
      "  ret = _var(a, axis=axis, dtype=dtype, out=out, ddof=ddof,\n",
      "C:\\Users\\arani\\anaconda3\\lib\\site-packages\\numpy\\core\\_methods.py:253: RuntimeWarning: invalid value encountered in double_scalars\n",
      "  ret = ret.dtype.type(ret / rcount)\n",
      "<ipython-input-21-2ba6170fa1ab>:15: UserWarning: Creating legend with loc=\"best\" can be slow with large amounts of data.\n",
      "  plt.savefig(\"Mrhogreat_afs.pdf\")\n",
      "<ipython-input-21-2ba6170fa1ab>:15: UserWarning: Creating legend with loc=\"best\" can be slow with large amounts of data.\n",
      "  plt.savefig(\"Mrhogreat_afs.pdf\")\n",
      "C:\\Users\\arani\\anaconda3\\lib\\site-packages\\IPython\\core\\pylabtools.py:132: UserWarning: Creating legend with loc=\"best\" can be slow with large amounts of data.\n",
      "  fig.canvas.print_figure(bytes_io, **kw)\n"
     ]
    },
    {
     "data": {
      "image/png": "[encoded data removed]",
      "text/plain": [
       "<Figure size 748.8x514.8 with 1 Axes>"
      ]
     },
     "metadata": {
      "needs_background": "light"
     },
     "output_type": "display_data"
    }
   ],
   "source": [
    "#err=np.array(smooth_std2(afs[1:], threshold=thresh, rescale=scale))\n",
    "err=np.array(smooth_sem(afs[1:], threshold=thresh, rescale=scale))\n",
    "plt.loglog(np.arange(1,total_sample_size+1)/(total_sample_size+1), Theta_eff / np.arange(1,total_sample_size+1), color=\"red\", label=r\"Predicted AFS for well-mixed population of effective size $N_e=\\frac{L^2}{2m\\pi^2}$\")\n",
    "plt.loglog(np.arange(1,total_sample_size+1)/(total_sample_size+1), Theta_real / np.arange(1,total_sample_size+1), color=\"blue\", label=r\"Predicted AFS for well-mixed population of census size $N=\\rho L$\")\n",
    "plt.errorbar(np.arange(1, total_sample_size+1)/total_sample_size,smooth(afs[1:], threshold=thresh, rescale=scale), yerr=err, ecolor=\"lime\", label=\"Simulated expected AFS\")\n",
    "#plt.loglog(np.arange(1, total_sample_size+1)/(total_sample_size+1),smooth(afs[1:], threshold=1000, rescale=200), color=\"green\",linewidth=0.5) \n",
    "plt.axvline(transition_freq,color='purple', label=r\"Transition frequency = $\\frac{1}{L}$\")\n",
    "#plt.axvline(0.2,color=\"orange\")\n",
    "\n",
    "\n",
    "#plt.legend([r\"Predicted AFS for well-mixed population of effective size $N_e=\\frac{L^2}{2m\\pi^2}$\", r\"Predicted AFS for well-mixed population of census size $N=\\rho L$\", r\"Transition frequency = $\\frac{1}{L}$\", \"Simulated expected AFS\"], loc =\"upper right\", fontsize=10)\n",
    "plt.ylabel(\"SNP Count\")\n",
    "plt.xlabel(\"Allele Frequency\")\n",
    "plt.legend(prop={\"size\":10})\n",
    "plt.savefig(\"Mrhogreat_afs.pdf\")"
   ]
  },
  {
   "cell_type": "code",
   "execution_count": null,
   "id": "d1d2c0c3-567b-4882-8ea3-2f596f741b82",
   "metadata": {},
   "outputs": [],
   "source": []
  }
 ],
 "metadata": {
  "kernelspec": {
   "display_name": "Python 3",
   "language": "python",
   "name": "python3"
  },
  "language_info": {
   "codemirror_mode": {
    "name": "ipython",
    "version": 3
   },
   "file_extension": ".py",
   "mimetype": "text/x-python",
   "name": "python",
   "nbconvert_exporter": "python",
   "pygments_lexer": "ipython3",
   "version": "3.8.8"
  }
 },
 "nbformat": 4,
 "nbformat_minor": 5
}
