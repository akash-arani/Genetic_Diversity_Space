{
 "cells": [
  {
   "cell_type": "code",
   "execution_count": 1,
   "id": "84d435e4-80ac-4ab8-ad61-94fffde12dc7",
   "metadata": {},
   "outputs": [],
   "source": [
    "import msprime\n",
    "import tskit\n",
    "import numpy as np\n",
    "import matplotlib.pyplot as plt\n",
    "import pandas as pd\n",
    "import pylab\n",
    "import scipy.linalg\n",
    "import matplotlib\n",
    "import csv\n",
    "import random\n",
    "from itertools import groupby\n",
    "import collections\n",
    "from scipy.special import gamma, factorial"
   ]
  },
  {
   "cell_type": "code",
   "execution_count": 2,
   "id": "8a0becee-6089-49ac-ba2f-860c33d4e3c4",
   "metadata": {},
   "outputs": [],
   "source": [
    "from scipy import stats"
   ]
  },
  {
   "cell_type": "code",
   "execution_count": 3,
   "id": "bca32d0a-1320-4ef4-971c-3306cbfb9401",
   "metadata": {},
   "outputs": [],
   "source": [
    "plt.style.use('seaborn-talk')\n",
    "matplotlib.rcParams['axes.labelsize'] = 20\n",
    "matplotlib.rcParams['axes.titlesize'] = 24\n",
    "matplotlib.rcParams['xtick.labelsize'] = 20\n",
    "matplotlib.rcParams['xtick.major.size'] = 10\n",
    "matplotlib.rcParams['xtick.minor.size'] = 5\n",
    "matplotlib.rcParams['ytick.labelsize'] = 20\n",
    "matplotlib.rcParams['ytick.major.size'] = 10"
   ]
  },
  {
   "cell_type": "markdown",
   "id": "1a53cd81-9f0d-4668-930c-18380cd0411b",
   "metadata": {},
   "source": [
    "### Creating 2-D Toroidal Migration Matrix and Setting Variables"
   ]
  },
  {
   "cell_type": "code",
   "execution_count": 4,
   "id": "1f807f35-ec5a-4ec3-81a8-5880d2d565ba",
   "metadata": {},
   "outputs": [
    {
     "name": "stdout",
     "output_type": "stream",
     "text": [
      "[[0, 1, 0, 0, 0, 1, 0, 0, 0, 0, 0, 0, 0, 0, 0, 0, 0, 0, 0, 0, 0, 0, 0, 0, 0], [1, 0, 1, 0, 0, 0, 1, 0, 0, 0, 0, 0, 0, 0, 0, 0, 0, 0, 0, 0, 0, 0, 0, 0, 0], [0, 1, 0, 1, 0, 0, 0, 1, 0, 0, 0, 0, 0, 0, 0, 0, 0, 0, 0, 0, 0, 0, 0, 0, 0], [0, 0, 1, 0, 1, 0, 0, 0, 1, 0, 0, 0, 0, 0, 0, 0, 0, 0, 0, 0, 0, 0, 0, 0, 0], [0, 0, 0, 1, 0, 0, 0, 0, 0, 1, 0, 0, 0, 0, 0, 0, 0, 0, 0, 0, 0, 0, 0, 0, 0], [1, 0, 0, 0, 0, 0, 1, 0, 0, 0, 1, 0, 0, 0, 0, 0, 0, 0, 0, 0, 0, 0, 0, 0, 0], [0, 1, 0, 0, 0, 1, 0, 1, 0, 0, 0, 1, 0, 0, 0, 0, 0, 0, 0, 0, 0, 0, 0, 0, 0], [0, 0, 1, 0, 0, 0, 1, 0, 1, 0, 0, 0, 1, 0, 0, 0, 0, 0, 0, 0, 0, 0, 0, 0, 0], [0, 0, 0, 1, 0, 0, 0, 1, 0, 1, 0, 0, 0, 1, 0, 0, 0, 0, 0, 0, 0, 0, 0, 0, 0], [0, 0, 0, 0, 1, 0, 0, 0, 1, 0, 0, 0, 0, 0, 1, 0, 0, 0, 0, 0, 0, 0, 0, 0, 0], [0, 0, 0, 0, 0, 1, 0, 0, 0, 0, 0, 1, 0, 0, 0, 1, 0, 0, 0, 0, 0, 0, 0, 0, 0], [0, 0, 0, 0, 0, 0, 1, 0, 0, 0, 1, 0, 1, 0, 0, 0, 1, 0, 0, 0, 0, 0, 0, 0, 0], [0, 0, 0, 0, 0, 0, 0, 1, 0, 0, 0, 1, 0, 1, 0, 0, 0, 1, 0, 0, 0, 0, 0, 0, 0], [0, 0, 0, 0, 0, 0, 0, 0, 1, 0, 0, 0, 1, 0, 1, 0, 0, 0, 1, 0, 0, 0, 0, 0, 0], [0, 0, 0, 0, 0, 0, 0, 0, 0, 1, 0, 0, 0, 1, 0, 0, 0, 0, 0, 1, 0, 0, 0, 0, 0], [0, 0, 0, 0, 0, 0, 0, 0, 0, 0, 1, 0, 0, 0, 0, 0, 1, 0, 0, 0, 1, 0, 0, 0, 0], [0, 0, 0, 0, 0, 0, 0, 0, 0, 0, 0, 1, 0, 0, 0, 1, 0, 1, 0, 0, 0, 1, 0, 0, 0], [0, 0, 0, 0, 0, 0, 0, 0, 0, 0, 0, 0, 1, 0, 0, 0, 1, 0, 1, 0, 0, 0, 1, 0, 0], [0, 0, 0, 0, 0, 0, 0, 0, 0, 0, 0, 0, 0, 1, 0, 0, 0, 1, 0, 1, 0, 0, 0, 1, 0], [0, 0, 0, 0, 0, 0, 0, 0, 0, 0, 0, 0, 0, 0, 1, 0, 0, 0, 1, 0, 0, 0, 0, 0, 1], [0, 0, 0, 0, 0, 0, 0, 0, 0, 0, 0, 0, 0, 0, 0, 1, 0, 0, 0, 0, 0, 1, 0, 0, 0], [0, 0, 0, 0, 0, 0, 0, 0, 0, 0, 0, 0, 0, 0, 0, 0, 1, 0, 0, 0, 1, 0, 1, 0, 0], [0, 0, 0, 0, 0, 0, 0, 0, 0, 0, 0, 0, 0, 0, 0, 0, 0, 1, 0, 0, 0, 1, 0, 1, 0], [0, 0, 0, 0, 0, 0, 0, 0, 0, 0, 0, 0, 0, 0, 0, 0, 0, 0, 1, 0, 0, 0, 1, 0, 1], [0, 0, 0, 0, 0, 0, 0, 0, 0, 0, 0, 0, 0, 0, 0, 0, 0, 0, 0, 1, 0, 0, 0, 1, 0]]\n"
     ]
    }
   ],
   "source": [
    "def migration_matrix_2d(length, migration_rate):\n",
    "    result=[ [0]*length**2 for i in range(length**2)]\n",
    "    for i in range(length**2):\n",
    "        for j in range(length**2):\n",
    "            #print(i)\n",
    "            #left edge cases\n",
    "            if i == 0:\n",
    "                result[i][i+1]= migration_rate\n",
    "                result[i][length]=migration_rate\n",
    "            elif i==(length*(length-1)):\n",
    "                result[i][i-length]= migration_rate\n",
    "                result[i][i+1]=migration_rate\n",
    "            elif i%length==0 :\n",
    "                result[i][i-length]= migration_rate\n",
    "                result[i][i+1]=migration_rate\n",
    "                result[i][i+length]=migration_rate\n",
    "                \n",
    "            #right edge cases \n",
    "            elif i==length-1:\n",
    "                result[i][i-1]=migration_rate\n",
    "                result[i][i+length]=migration_rate\n",
    "            elif i==(length**2-1):\n",
    "                result[i][i-length]= migration_rate\n",
    "                result[i][i-1]=migration_rate\n",
    "            elif (i+1)%length==0 :\n",
    "                result[i][i-length]= migration_rate\n",
    "                result[i][i-1]=migration_rate\n",
    "                result[i][i+length]=migration_rate\n",
    "                \n",
    "            \n",
    "            #top and bottom edge cases\n",
    "            elif 0< i <length-1:\n",
    "                result[i][i-1]= migration_rate\n",
    "                result[i][i+1]=migration_rate\n",
    "                result[i][i+length]=migration_rate\n",
    "            elif (length)*(length-1) < i < length**2-1:\n",
    "                result[i][i-1]= migration_rate\n",
    "                result[i][i+1]=migration_rate\n",
    "                result[i][i-length]=migration_rate\n",
    "                \n",
    "            #inner nodes\n",
    "            else:\n",
    "                result[i][i-1]= migration_rate\n",
    "                result[i][i+1]=migration_rate\n",
    "                result[i][i-length]=migration_rate\n",
    "                result[i][i+length]=migration_rate\n",
    "                \n",
    "                \n",
    "                \n",
    "                \n",
    "                \n",
    "            \n",
    "    return result\n",
    "print(migration_matrix_2d(5,1))"
   ]
  },
  {
   "cell_type": "code",
   "execution_count": 5,
   "id": "01283aca-c4b7-4409-9766-45da4da64549",
   "metadata": {},
   "outputs": [
    {
     "name": "stdout",
     "output_type": "stream",
     "text": [
      "we want 1 <<< m*deme_density \n",
      "1 <<<  0.05\n"
     ]
    }
   ],
   "source": [
    "Deme_density = 10\n",
    "L = 900 #the number of demes \n",
    "deme_sample_size = Deme_density #deme sample size = 40\n",
    "trials = 50 #number of trials\n",
    "m=0.005\n",
    "total_sample_size = int(L * deme_sample_size) # total sample size\n",
    "matrix = migration_matrix_2d(int(np.sqrt(L)), m/4)\n",
    "\n",
    "\n",
    "population_configurations = L * [msprime.PopulationConfiguration(deme_sample_size)]\n",
    "\n",
    "print(\"we want 1 <<< m*deme_density \")\n",
    "print(\"1 <<< \",m*Deme_density )\n",
    "    \n",
    "#print(matrix)"
   ]
  },
  {
   "cell_type": "markdown",
   "id": "ff0513a8-6e45-4e6e-84a7-d362249f64e3",
   "metadata": {},
   "source": [
    "### Running Simulations "
   ]
  },
  {
   "cell_type": "code",
   "execution_count": 6,
   "id": "33a26346-6cef-4009-a59b-1f2d3fa31cee",
   "metadata": {},
   "outputs": [
    {
     "name": "stderr",
     "output_type": "stream",
     "text": [
      "The provenance information for the resulting tree sequence is 2.46MB. This is nothing to worry about as provenance is a good thing to have, but if you want to save this memory/storage space you can disable provenance recording by setting record_provenance=False\n"
     ]
    },
    {
     "name": "stdout",
     "output_type": "stream",
     "text": [
      "iteration 0\n"
     ]
    },
    {
     "name": "stderr",
     "output_type": "stream",
     "text": [
      "The provenance information for the resulting tree sequence is 2.46MB. This is nothing to worry about as provenance is a good thing to have, but if you want to save this memory/storage space you can disable provenance recording by setting record_provenance=False\n"
     ]
    },
    {
     "name": "stdout",
     "output_type": "stream",
     "text": [
      "iteration 1\n"
     ]
    },
    {
     "name": "stderr",
     "output_type": "stream",
     "text": [
      "The provenance information for the resulting tree sequence is 2.46MB. This is nothing to worry about as provenance is a good thing to have, but if you want to save this memory/storage space you can disable provenance recording by setting record_provenance=False\n"
     ]
    },
    {
     "name": "stdout",
     "output_type": "stream",
     "text": [
      "iteration 2\n"
     ]
    },
    {
     "name": "stderr",
     "output_type": "stream",
     "text": [
      "The provenance information for the resulting tree sequence is 2.46MB. This is nothing to worry about as provenance is a good thing to have, but if you want to save this memory/storage space you can disable provenance recording by setting record_provenance=False\n"
     ]
    },
    {
     "name": "stdout",
     "output_type": "stream",
     "text": [
      "iteration 3\n"
     ]
    },
    {
     "name": "stderr",
     "output_type": "stream",
     "text": [
      "The provenance information for the resulting tree sequence is 2.46MB. This is nothing to worry about as provenance is a good thing to have, but if you want to save this memory/storage space you can disable provenance recording by setting record_provenance=False\n"
     ]
    },
    {
     "name": "stdout",
     "output_type": "stream",
     "text": [
      "iteration 4\n"
     ]
    },
    {
     "name": "stderr",
     "output_type": "stream",
     "text": [
      "The provenance information for the resulting tree sequence is 2.46MB. This is nothing to worry about as provenance is a good thing to have, but if you want to save this memory/storage space you can disable provenance recording by setting record_provenance=False\n"
     ]
    },
    {
     "name": "stdout",
     "output_type": "stream",
     "text": [
      "iteration 5\n"
     ]
    },
    {
     "name": "stderr",
     "output_type": "stream",
     "text": [
      "The provenance information for the resulting tree sequence is 2.46MB. This is nothing to worry about as provenance is a good thing to have, but if you want to save this memory/storage space you can disable provenance recording by setting record_provenance=False\n"
     ]
    },
    {
     "name": "stdout",
     "output_type": "stream",
     "text": [
      "iteration 6\n"
     ]
    },
    {
     "name": "stderr",
     "output_type": "stream",
     "text": [
      "The provenance information for the resulting tree sequence is 2.46MB. This is nothing to worry about as provenance is a good thing to have, but if you want to save this memory/storage space you can disable provenance recording by setting record_provenance=False\n"
     ]
    },
    {
     "name": "stdout",
     "output_type": "stream",
     "text": [
      "iteration 7\n"
     ]
    },
    {
     "name": "stderr",
     "output_type": "stream",
     "text": [
      "The provenance information for the resulting tree sequence is 2.46MB. This is nothing to worry about as provenance is a good thing to have, but if you want to save this memory/storage space you can disable provenance recording by setting record_provenance=False\n"
     ]
    },
    {
     "name": "stdout",
     "output_type": "stream",
     "text": [
      "iteration 8\n"
     ]
    },
    {
     "name": "stderr",
     "output_type": "stream",
     "text": [
      "The provenance information for the resulting tree sequence is 2.46MB. This is nothing to worry about as provenance is a good thing to have, but if you want to save this memory/storage space you can disable provenance recording by setting record_provenance=False\n"
     ]
    },
    {
     "name": "stdout",
     "output_type": "stream",
     "text": [
      "iteration 9\n"
     ]
    },
    {
     "name": "stderr",
     "output_type": "stream",
     "text": [
      "The provenance information for the resulting tree sequence is 2.46MB. This is nothing to worry about as provenance is a good thing to have, but if you want to save this memory/storage space you can disable provenance recording by setting record_provenance=False\n"
     ]
    },
    {
     "name": "stdout",
     "output_type": "stream",
     "text": [
      "iteration 10\n"
     ]
    },
    {
     "name": "stderr",
     "output_type": "stream",
     "text": [
      "The provenance information for the resulting tree sequence is 2.46MB. This is nothing to worry about as provenance is a good thing to have, but if you want to save this memory/storage space you can disable provenance recording by setting record_provenance=False\n"
     ]
    },
    {
     "name": "stdout",
     "output_type": "stream",
     "text": [
      "iteration 11\n"
     ]
    },
    {
     "name": "stderr",
     "output_type": "stream",
     "text": [
      "The provenance information for the resulting tree sequence is 2.46MB. This is nothing to worry about as provenance is a good thing to have, but if you want to save this memory/storage space you can disable provenance recording by setting record_provenance=False\n"
     ]
    },
    {
     "name": "stdout",
     "output_type": "stream",
     "text": [
      "iteration 12\n"
     ]
    },
    {
     "name": "stderr",
     "output_type": "stream",
     "text": [
      "The provenance information for the resulting tree sequence is 2.46MB. This is nothing to worry about as provenance is a good thing to have, but if you want to save this memory/storage space you can disable provenance recording by setting record_provenance=False\n"
     ]
    },
    {
     "name": "stdout",
     "output_type": "stream",
     "text": [
      "iteration 13\n"
     ]
    },
    {
     "name": "stderr",
     "output_type": "stream",
     "text": [
      "The provenance information for the resulting tree sequence is 2.46MB. This is nothing to worry about as provenance is a good thing to have, but if you want to save this memory/storage space you can disable provenance recording by setting record_provenance=False\n"
     ]
    },
    {
     "name": "stdout",
     "output_type": "stream",
     "text": [
      "iteration 14\n"
     ]
    },
    {
     "name": "stderr",
     "output_type": "stream",
     "text": [
      "The provenance information for the resulting tree sequence is 2.46MB. This is nothing to worry about as provenance is a good thing to have, but if you want to save this memory/storage space you can disable provenance recording by setting record_provenance=False\n"
     ]
    },
    {
     "name": "stdout",
     "output_type": "stream",
     "text": [
      "iteration 15\n"
     ]
    },
    {
     "name": "stderr",
     "output_type": "stream",
     "text": [
      "The provenance information for the resulting tree sequence is 2.46MB. This is nothing to worry about as provenance is a good thing to have, but if you want to save this memory/storage space you can disable provenance recording by setting record_provenance=False\n"
     ]
    },
    {
     "name": "stdout",
     "output_type": "stream",
     "text": [
      "iteration 16\n"
     ]
    },
    {
     "name": "stderr",
     "output_type": "stream",
     "text": [
      "The provenance information for the resulting tree sequence is 2.46MB. This is nothing to worry about as provenance is a good thing to have, but if you want to save this memory/storage space you can disable provenance recording by setting record_provenance=False\n"
     ]
    },
    {
     "name": "stdout",
     "output_type": "stream",
     "text": [
      "iteration 17\n"
     ]
    },
    {
     "name": "stderr",
     "output_type": "stream",
     "text": [
      "The provenance information for the resulting tree sequence is 2.46MB. This is nothing to worry about as provenance is a good thing to have, but if you want to save this memory/storage space you can disable provenance recording by setting record_provenance=False\n"
     ]
    },
    {
     "name": "stdout",
     "output_type": "stream",
     "text": [
      "iteration 18\n"
     ]
    },
    {
     "name": "stderr",
     "output_type": "stream",
     "text": [
      "The provenance information for the resulting tree sequence is 2.46MB. This is nothing to worry about as provenance is a good thing to have, but if you want to save this memory/storage space you can disable provenance recording by setting record_provenance=False\n"
     ]
    },
    {
     "name": "stdout",
     "output_type": "stream",
     "text": [
      "iteration 19\n"
     ]
    },
    {
     "name": "stderr",
     "output_type": "stream",
     "text": [
      "The provenance information for the resulting tree sequence is 2.46MB. This is nothing to worry about as provenance is a good thing to have, but if you want to save this memory/storage space you can disable provenance recording by setting record_provenance=False\n"
     ]
    },
    {
     "name": "stdout",
     "output_type": "stream",
     "text": [
      "iteration 20\n"
     ]
    },
    {
     "name": "stderr",
     "output_type": "stream",
     "text": [
      "The provenance information for the resulting tree sequence is 2.46MB. This is nothing to worry about as provenance is a good thing to have, but if you want to save this memory/storage space you can disable provenance recording by setting record_provenance=False\n"
     ]
    },
    {
     "name": "stdout",
     "output_type": "stream",
     "text": [
      "iteration 21\n"
     ]
    },
    {
     "name": "stderr",
     "output_type": "stream",
     "text": [
      "The provenance information for the resulting tree sequence is 2.46MB. This is nothing to worry about as provenance is a good thing to have, but if you want to save this memory/storage space you can disable provenance recording by setting record_provenance=False\n"
     ]
    },
    {
     "name": "stdout",
     "output_type": "stream",
     "text": [
      "iteration 22\n"
     ]
    },
    {
     "name": "stderr",
     "output_type": "stream",
     "text": [
      "The provenance information for the resulting tree sequence is 2.46MB. This is nothing to worry about as provenance is a good thing to have, but if you want to save this memory/storage space you can disable provenance recording by setting record_provenance=False\n"
     ]
    },
    {
     "name": "stdout",
     "output_type": "stream",
     "text": [
      "iteration 23\n"
     ]
    },
    {
     "name": "stderr",
     "output_type": "stream",
     "text": [
      "The provenance information for the resulting tree sequence is 2.46MB. This is nothing to worry about as provenance is a good thing to have, but if you want to save this memory/storage space you can disable provenance recording by setting record_provenance=False\n"
     ]
    },
    {
     "name": "stdout",
     "output_type": "stream",
     "text": [
      "iteration 24\n"
     ]
    },
    {
     "name": "stderr",
     "output_type": "stream",
     "text": [
      "The provenance information for the resulting tree sequence is 2.46MB. This is nothing to worry about as provenance is a good thing to have, but if you want to save this memory/storage space you can disable provenance recording by setting record_provenance=False\n"
     ]
    },
    {
     "name": "stdout",
     "output_type": "stream",
     "text": [
      "iteration 25\n"
     ]
    },
    {
     "name": "stderr",
     "output_type": "stream",
     "text": [
      "The provenance information for the resulting tree sequence is 2.46MB. This is nothing to worry about as provenance is a good thing to have, but if you want to save this memory/storage space you can disable provenance recording by setting record_provenance=False\n"
     ]
    },
    {
     "name": "stdout",
     "output_type": "stream",
     "text": [
      "iteration 26\n"
     ]
    },
    {
     "name": "stderr",
     "output_type": "stream",
     "text": [
      "The provenance information for the resulting tree sequence is 2.46MB. This is nothing to worry about as provenance is a good thing to have, but if you want to save this memory/storage space you can disable provenance recording by setting record_provenance=False\n"
     ]
    },
    {
     "name": "stdout",
     "output_type": "stream",
     "text": [
      "iteration 27\n"
     ]
    },
    {
     "name": "stderr",
     "output_type": "stream",
     "text": [
      "The provenance information for the resulting tree sequence is 2.46MB. This is nothing to worry about as provenance is a good thing to have, but if you want to save this memory/storage space you can disable provenance recording by setting record_provenance=False\n"
     ]
    },
    {
     "name": "stdout",
     "output_type": "stream",
     "text": [
      "iteration 28\n"
     ]
    },
    {
     "name": "stderr",
     "output_type": "stream",
     "text": [
      "The provenance information for the resulting tree sequence is 2.46MB. This is nothing to worry about as provenance is a good thing to have, but if you want to save this memory/storage space you can disable provenance recording by setting record_provenance=False\n"
     ]
    },
    {
     "name": "stdout",
     "output_type": "stream",
     "text": [
      "iteration 29\n"
     ]
    },
    {
     "name": "stderr",
     "output_type": "stream",
     "text": [
      "The provenance information for the resulting tree sequence is 2.46MB. This is nothing to worry about as provenance is a good thing to have, but if you want to save this memory/storage space you can disable provenance recording by setting record_provenance=False\n"
     ]
    },
    {
     "name": "stdout",
     "output_type": "stream",
     "text": [
      "iteration 30\n"
     ]
    },
    {
     "name": "stderr",
     "output_type": "stream",
     "text": [
      "The provenance information for the resulting tree sequence is 2.46MB. This is nothing to worry about as provenance is a good thing to have, but if you want to save this memory/storage space you can disable provenance recording by setting record_provenance=False\n"
     ]
    },
    {
     "name": "stdout",
     "output_type": "stream",
     "text": [
      "iteration 31\n"
     ]
    },
    {
     "name": "stderr",
     "output_type": "stream",
     "text": [
      "The provenance information for the resulting tree sequence is 2.46MB. This is nothing to worry about as provenance is a good thing to have, but if you want to save this memory/storage space you can disable provenance recording by setting record_provenance=False\n"
     ]
    },
    {
     "name": "stdout",
     "output_type": "stream",
     "text": [
      "iteration 32\n"
     ]
    },
    {
     "name": "stderr",
     "output_type": "stream",
     "text": [
      "The provenance information for the resulting tree sequence is 2.46MB. This is nothing to worry about as provenance is a good thing to have, but if you want to save this memory/storage space you can disable provenance recording by setting record_provenance=False\n"
     ]
    },
    {
     "name": "stdout",
     "output_type": "stream",
     "text": [
      "iteration 33\n"
     ]
    },
    {
     "name": "stderr",
     "output_type": "stream",
     "text": [
      "The provenance information for the resulting tree sequence is 2.46MB. This is nothing to worry about as provenance is a good thing to have, but if you want to save this memory/storage space you can disable provenance recording by setting record_provenance=False\n"
     ]
    },
    {
     "name": "stdout",
     "output_type": "stream",
     "text": [
      "iteration 34\n"
     ]
    },
    {
     "name": "stderr",
     "output_type": "stream",
     "text": [
      "The provenance information for the resulting tree sequence is 2.46MB. This is nothing to worry about as provenance is a good thing to have, but if you want to save this memory/storage space you can disable provenance recording by setting record_provenance=False\n"
     ]
    },
    {
     "name": "stdout",
     "output_type": "stream",
     "text": [
      "iteration 35\n"
     ]
    },
    {
     "name": "stderr",
     "output_type": "stream",
     "text": [
      "The provenance information for the resulting tree sequence is 2.46MB. This is nothing to worry about as provenance is a good thing to have, but if you want to save this memory/storage space you can disable provenance recording by setting record_provenance=False\n"
     ]
    },
    {
     "name": "stdout",
     "output_type": "stream",
     "text": [
      "iteration 36\n"
     ]
    },
    {
     "name": "stderr",
     "output_type": "stream",
     "text": [
      "The provenance information for the resulting tree sequence is 2.46MB. This is nothing to worry about as provenance is a good thing to have, but if you want to save this memory/storage space you can disable provenance recording by setting record_provenance=False\n"
     ]
    },
    {
     "name": "stdout",
     "output_type": "stream",
     "text": [
      "iteration 37\n"
     ]
    },
    {
     "name": "stderr",
     "output_type": "stream",
     "text": [
      "The provenance information for the resulting tree sequence is 2.46MB. This is nothing to worry about as provenance is a good thing to have, but if you want to save this memory/storage space you can disable provenance recording by setting record_provenance=False\n"
     ]
    },
    {
     "name": "stdout",
     "output_type": "stream",
     "text": [
      "iteration 38\n"
     ]
    },
    {
     "name": "stderr",
     "output_type": "stream",
     "text": [
      "The provenance information for the resulting tree sequence is 2.46MB. This is nothing to worry about as provenance is a good thing to have, but if you want to save this memory/storage space you can disable provenance recording by setting record_provenance=False\n"
     ]
    },
    {
     "name": "stdout",
     "output_type": "stream",
     "text": [
      "iteration 39\n"
     ]
    },
    {
     "name": "stderr",
     "output_type": "stream",
     "text": [
      "The provenance information for the resulting tree sequence is 2.46MB. This is nothing to worry about as provenance is a good thing to have, but if you want to save this memory/storage space you can disable provenance recording by setting record_provenance=False\n"
     ]
    },
    {
     "name": "stdout",
     "output_type": "stream",
     "text": [
      "iteration 40\n"
     ]
    },
    {
     "name": "stderr",
     "output_type": "stream",
     "text": [
      "The provenance information for the resulting tree sequence is 2.46MB. This is nothing to worry about as provenance is a good thing to have, but if you want to save this memory/storage space you can disable provenance recording by setting record_provenance=False\n"
     ]
    },
    {
     "name": "stdout",
     "output_type": "stream",
     "text": [
      "iteration 41\n"
     ]
    },
    {
     "name": "stderr",
     "output_type": "stream",
     "text": [
      "The provenance information for the resulting tree sequence is 2.46MB. This is nothing to worry about as provenance is a good thing to have, but if you want to save this memory/storage space you can disable provenance recording by setting record_provenance=False\n"
     ]
    },
    {
     "name": "stdout",
     "output_type": "stream",
     "text": [
      "iteration 42\n"
     ]
    },
    {
     "name": "stderr",
     "output_type": "stream",
     "text": [
      "The provenance information for the resulting tree sequence is 2.46MB. This is nothing to worry about as provenance is a good thing to have, but if you want to save this memory/storage space you can disable provenance recording by setting record_provenance=False\n"
     ]
    },
    {
     "name": "stdout",
     "output_type": "stream",
     "text": [
      "iteration 43\n"
     ]
    },
    {
     "name": "stderr",
     "output_type": "stream",
     "text": [
      "The provenance information for the resulting tree sequence is 2.46MB. This is nothing to worry about as provenance is a good thing to have, but if you want to save this memory/storage space you can disable provenance recording by setting record_provenance=False\n"
     ]
    },
    {
     "name": "stdout",
     "output_type": "stream",
     "text": [
      "iteration 44\n"
     ]
    },
    {
     "name": "stderr",
     "output_type": "stream",
     "text": [
      "The provenance information for the resulting tree sequence is 2.46MB. This is nothing to worry about as provenance is a good thing to have, but if you want to save this memory/storage space you can disable provenance recording by setting record_provenance=False\n"
     ]
    },
    {
     "name": "stdout",
     "output_type": "stream",
     "text": [
      "iteration 45\n"
     ]
    },
    {
     "name": "stderr",
     "output_type": "stream",
     "text": [
      "The provenance information for the resulting tree sequence is 2.46MB. This is nothing to worry about as provenance is a good thing to have, but if you want to save this memory/storage space you can disable provenance recording by setting record_provenance=False\n"
     ]
    },
    {
     "name": "stdout",
     "output_type": "stream",
     "text": [
      "iteration 46\n"
     ]
    },
    {
     "name": "stderr",
     "output_type": "stream",
     "text": [
      "The provenance information for the resulting tree sequence is 2.46MB. This is nothing to worry about as provenance is a good thing to have, but if you want to save this memory/storage space you can disable provenance recording by setting record_provenance=False\n"
     ]
    },
    {
     "name": "stdout",
     "output_type": "stream",
     "text": [
      "iteration 47\n"
     ]
    },
    {
     "name": "stderr",
     "output_type": "stream",
     "text": [
      "The provenance information for the resulting tree sequence is 2.46MB. This is nothing to worry about as provenance is a good thing to have, but if you want to save this memory/storage space you can disable provenance recording by setting record_provenance=False\n"
     ]
    },
    {
     "name": "stdout",
     "output_type": "stream",
     "text": [
      "iteration 48\n"
     ]
    },
    {
     "name": "stderr",
     "output_type": "stream",
     "text": [
      "The provenance information for the resulting tree sequence is 2.46MB. This is nothing to worry about as provenance is a good thing to have, but if you want to save this memory/storage space you can disable provenance recording by setting record_provenance=False\n"
     ]
    },
    {
     "name": "stdout",
     "output_type": "stream",
     "text": [
      "iteration 49\n"
     ]
    }
   ],
   "source": [
    "afs2 = []\n",
    "for i in range(50):\n",
    "    ts = msprime.simulate(Ne=Deme_density, population_configurations=population_configurations, migration_matrix=matrix)\n",
    "\n",
    "\n",
    "    afs1 = ts.allele_frequency_spectrum(mode=\"branch\", polarised=True, span_normalise=False)\n",
    "    \n",
    "    afs2.append(afs1)\n",
    "\n",
    "    \n",
    "    print(\"iteration\",i)\n",
    "    \n",
    "afs = np.mean(afs2, 0)  "
   ]
  },
  {
   "cell_type": "code",
   "execution_count": 7,
   "id": "6d32ec38-cf19-4756-b11b-5e374498479b",
   "metadata": {},
   "outputs": [],
   "source": [
    "def smooth(x, threshold=100, rescale=2):\n",
    "    return [np.mean(x[max(i - (rescale * i) // threshold, 0) : min(i + 1 + (rescale * i) // threshold, len(x))]) for i in range(len(x))]"
   ]
  },
  {
   "cell_type": "code",
   "execution_count": 8,
   "id": "01a21140-6d22-4e56-bd18-f8ef20ace611",
   "metadata": {},
   "outputs": [],
   "source": [
    "def smooth_sem(x, threshold, rescale):\n",
    "        return [stats.sem(x[max(i - (rescale * i) // threshold, 0) : min(i + 1 + (rescale * i) // threshold, len(x))]) for i in range(len(x))]\n"
   ]
  },
  {
   "cell_type": "code",
   "execution_count": 9,
   "id": "b84b5451-404e-4e75-bd57-ad93e9b623dc",
   "metadata": {},
   "outputs": [
    {
     "name": "stdout",
     "output_type": "stream",
     "text": [
      "The effective population size via Maruyama equation is:  180000.0\n",
      "The real population size is 9000\n"
     ]
    }
   ],
   "source": [
    "m_1=m/2\n",
    "m_2=m/2\n",
    "m_t=m_1+m_2\n",
    "Effective_pop = (L)/(m_t)\n",
    "print(\"The effective population size via Maruyama equation is: \", Effective_pop)\n",
    "real_pop = L*Deme_density\n",
    "print(\"The real population size is\", real_pop)\n",
    "\n",
    "# Since we're using branch lengths, the mutation rate is 1\n",
    "Theta_eff = 4 * Effective_pop\n",
    "Theta_real = 4 * real_pop\n",
    "\n",
    "\n"
   ]
  },
  {
   "cell_type": "code",
   "execution_count": 10,
   "id": "7a5c08a1-1e7c-4df7-a686-eec41f589ff0",
   "metadata": {},
   "outputs": [],
   "source": [
    "std_data=np.std(smooth(afs[1:], threshold=1000, rescale=200))\n",
    "error=std_data/np.sqrt(len(smooth(afs[1:], threshold=1000, rescale=200)))"
   ]
  },
  {
   "cell_type": "code",
   "execution_count": 11,
   "id": "82cd2248-f790-467e-98b1-b2ec203856e5",
   "metadata": {},
   "outputs": [
    {
     "name": "stdout",
     "output_type": "stream",
     "text": [
      "0.0011111111111111111\n"
     ]
    }
   ],
   "source": [
    "transition_freq=max(Deme_density,(m*Deme_density**2))/total_sample_size\n",
    "print(transition_freq)"
   ]
  },
  {
   "cell_type": "code",
   "execution_count": 12,
   "id": "10206b2e-4414-4a8d-9c7a-5b8688593c10",
   "metadata": {},
   "outputs": [],
   "source": [
    "thresh=1000\n",
    "scale=200"
   ]
  },
  {
   "cell_type": "code",
   "execution_count": 13,
   "id": "aaffd2f8-fafa-4869-8d47-60fd21cca26d",
   "metadata": {},
   "outputs": [
    {
     "name": "stderr",
     "output_type": "stream",
     "text": [
      "C:\\Users\\arani\\anaconda3\\lib\\site-packages\\numpy\\core\\_methods.py:261: RuntimeWarning: Degrees of freedom <= 0 for slice\n",
      "  ret = _var(a, axis=axis, dtype=dtype, out=out, ddof=ddof,\n",
      "C:\\Users\\arani\\anaconda3\\lib\\site-packages\\numpy\\core\\_methods.py:253: RuntimeWarning: invalid value encountered in double_scalars\n",
      "  ret = ret.dtype.type(ret / rcount)\n"
     ]
    }
   ],
   "source": [
    "err=np.array(smooth_sem(afs[1:], threshold=thresh, rescale=scale))"
   ]
  },
  {
   "cell_type": "code",
   "execution_count": 14,
   "id": "d64c0d89-b1e7-4eba-a354-857b67c59469",
   "metadata": {},
   "outputs": [
    {
     "data": {
      "text/plain": [
       "Text(0, 0.5, 'SNP Count')"
      ]
     },
     "execution_count": 14,
     "metadata": {},
     "output_type": "execute_result"
    },
    {
     "data": {
      "image/png": "[encoded data removed]",
      "text/plain": [
       "<Figure size 748.8x514.8 with 1 Axes>"
      ]
     },
     "metadata": {
      "needs_background": "light"
     },
     "output_type": "display_data"
    }
   ],
   "source": [
    "plt.loglog(np.arange(1,total_sample_size+1)/(total_sample_size+1), Theta_eff / np.arange(1,total_sample_size+1), color=\"red\")\n",
    "plt.loglog(np.arange(1,total_sample_size+1)/(total_sample_size+1), Theta_real / np.arange(1,total_sample_size+1), color=\"blue\")\n",
    "#plt.loglog(np.arange(1, total_sample_size+1)/(total_sample_size+1),smooth(afs[1:], threshold=1000, rescale=200), color=\"green\") \n",
    "plt.axvline(transition_freq,color='purple')\n",
    "#plt.axvline(0.2,color=\"orange\")\n",
    "\n",
    "plt.errorbar(np.arange(1, total_sample_size+1)/total_sample_size,smooth(afs[1:], threshold=thresh, rescale=scale), yerr=err, ecolor=\"lime\")\n",
    "plt.legend([\"Predicted AFS for population of effective size Ne\", \"Predicted AFS for population of census size N\" , 'Transition frequency', 'Simulated expected AFS'], loc =\"upper right\")\n",
    "plt.xlabel(\"Allele Frequency\")\n",
    "plt.ylabel(\"SNP Count\")\n"
   ]
  },
  {
   "cell_type": "markdown",
   "id": "655d99ba-f525-4a82-98bd-9fd7ca11bcfc",
   "metadata": {},
   "source": [
    "### Producing Wright-Fisher Fit"
   ]
  },
  {
   "cell_type": "code",
   "execution_count": 15,
   "id": "6553d011-09d7-4565-a44e-49b3a77457bc",
   "metadata": {},
   "outputs": [
    {
     "name": "stdout",
     "output_type": "stream",
     "text": [
      "[0.00011111 0.00022222 0.00033333 0.00044444 0.00055556 0.00066667\n",
      " 0.00077778 0.00088889 0.001      0.00111111]\n"
     ]
    },
    {
     "data": {
      "text/plain": [
       "10"
      ]
     },
     "execution_count": 15,
     "metadata": {},
     "output_type": "execute_result"
    }
   ],
   "source": [
    "a=[]\n",
    "y=np.arange(1,total_sample_size)/total_sample_size\n",
    "for i in range (len(y)):\n",
    "    if np.min(y)<=y[i]<=transition_freq:\n",
    "        a.append(y[i])\n",
    "b=np.array(a)\n",
    "print(b)\n",
    "len(b)"
   ]
  },
  {
   "cell_type": "code",
   "execution_count": 16,
   "id": "0aad2f67-a933-4e71-940f-b66bfa8a4e3f",
   "metadata": {},
   "outputs": [
    {
     "name": "stdout",
     "output_type": "stream",
     "text": [
      "[0.1 0.2 0.3 0.4 0.5 0.6 0.7 0.8 0.9 1. ]\n"
     ]
    },
    {
     "data": {
      "text/plain": [
       "10"
      ]
     },
     "execution_count": 16,
     "metadata": {},
     "output_type": "execute_result"
    }
   ],
   "source": [
    "x=np.array(b)*1/(np.max(b))\n",
    "print(x)\n",
    "len(x)"
   ]
  },
  {
   "cell_type": "code",
   "execution_count": 17,
   "id": "497edd60-6c09-48af-8491-bc61ee3c3b52",
   "metadata": {},
   "outputs": [
    {
     "name": "stdout",
     "output_type": "stream",
     "text": [
      "0.1\n"
     ]
    }
   ],
   "source": [
    "N=total_sample_size*transition_freq\n",
    "u=m ## Migration rate taken as the effective mutation rate of the mutant A1 to the wild type A2\n",
    "v=0 ## Mutation rate of wild type A2 to mutant A1\n",
    "Beta_1=2*N*u\n",
    "Beta_2=2*N*v\n",
    "#print(Beta_1)\n",
    "#print(Beta_2)\n",
    "print(Beta_1)"
   ]
  },
  {
   "cell_type": "code",
   "execution_count": 18,
   "id": "be05aa90-3460-4dc2-980c-27530a12d2f4",
   "metadata": {},
   "outputs": [],
   "source": [
    "numerator=scipy.special.gamma(2*Beta_1+2*Beta_2)\n",
    "denominator=scipy.special.gamma(2*Beta_1)*scipy.special.gamma(2*Beta_2)\n",
    "\n",
    "gamma_coefficient=1"
   ]
  },
  {
   "cell_type": "code",
   "execution_count": 19,
   "id": "000ea86c-fbcb-4e5e-aa34-b51b7fc957a5",
   "metadata": {},
   "outputs": [
    {
     "name": "stdout",
     "output_type": "stream",
     "text": [
      "[10.87942625  5.97720312  4.43404721  3.76200188  3.48220225  3.4689717\n",
      "  3.74287184  4.5298729   7.01063716         inf]\n"
     ]
    },
    {
     "name": "stderr",
     "output_type": "stream",
     "text": [
      "<ipython-input-19-0f5209aa8ca7>:1: RuntimeWarning: divide by zero encountered in power\n",
      "  frequency_value=(x**(2*Beta_2-1))*((1-x)**(2*Beta_1-1))\n"
     ]
    }
   ],
   "source": [
    "frequency_value=(x**(2*Beta_2-1))*((1-x)**(2*Beta_1-1))\n",
    "\n",
    "## Setting up the frequency/x part of the equation\n",
    "print(frequency_value)"
   ]
  },
  {
   "cell_type": "code",
   "execution_count": 20,
   "id": "ad17dac4-aba8-47ea-a514-e9949eaa1614",
   "metadata": {},
   "outputs": [
    {
     "data": {
      "text/plain": [
       "[<matplotlib.lines.Line2D at 0x2713d19fa90>]"
      ]
     },
     "execution_count": 20,
     "metadata": {},
     "output_type": "execute_result"
    },
    {
     "data": {
      "image/png": "[encoded data removed]",
      "text/plain": [
       "<Figure size 748.8x514.8 with 1 Axes>"
      ]
     },
     "metadata": {
      "needs_background": "light"
     },
     "output_type": "display_data"
    }
   ],
   "source": [
    "Effective_dist=gamma_coefficient*frequency_value\n",
    "#max(Effective_dist)\n",
    "plt.loglog(x,Effective_dist)"
   ]
  },
  {
   "cell_type": "code",
   "execution_count": 21,
   "id": "04477d5f-0efb-4a2a-816b-bdb6f2a2e220",
   "metadata": {},
   "outputs": [
    {
     "name": "stdout",
     "output_type": "stream",
     "text": [
      "[0.00011111 0.00022222 0.00033333 0.00044444 0.00055556 0.00066667\n",
      " 0.00077778 0.00088889 0.001      0.00111111]\n"
     ]
    },
    {
     "data": {
      "text/plain": [
       "10"
      ]
     },
     "execution_count": 21,
     "metadata": {},
     "output_type": "execute_result"
    }
   ],
   "source": [
    "e=np.linspace(1/total_sample_size,transition_freq,len(x))\n",
    "print(e)\n",
    "len(e)"
   ]
  },
  {
   "cell_type": "code",
   "execution_count": null,
   "id": "2d54d55e-6096-4990-a548-f5315beeb818",
   "metadata": {},
   "outputs": [
    {
     "data": {
      "text/plain": [
       "[<matplotlib.lines.Line2D at 0x2713d0f8520>]"
      ]
     },
     "execution_count": 22,
     "metadata": {},
     "output_type": "execute_result"
    }
   ],
   "source": [
    "Effective_dist=gamma_coefficient*frequency_value\n",
    "#max(Effective_dist)\n",
    "plt.loglog(e,Effective_dist)"
   ]
  },
  {
   "cell_type": "code",
   "execution_count": null,
   "id": "8be79082-a48a-42e5-8b75-b16fe1bb755b",
   "metadata": {},
   "outputs": [],
   "source": [
    "plt.loglog(np.arange(1,total_sample_size)/total_sample_size, Theta_eff / np.arange(1,total_sample_size), color=\"red\")\n",
    "plt.loglog(np.arange(1,total_sample_size)/total_sample_size, Theta_real / np.arange(1,total_sample_size), color=\"blue\")\n",
    "plt.loglog(e,Effective_dist)\n"
   ]
  },
  {
   "cell_type": "code",
   "execution_count": null,
   "id": "6d55254a-2a91-480c-bb60-fb3a38b34446",
   "metadata": {},
   "outputs": [],
   "source": [
    "eff_data=Theta_real / np.arange(1,total_sample_size)\n",
    "pre_factor=eff_data[0]/Effective_dist[0]"
   ]
  },
  {
   "cell_type": "code",
   "execution_count": null,
   "id": "4fa9a1a5-d948-47d1-82bc-df488b72b779",
   "metadata": {},
   "outputs": [],
   "source": [
    "AF_xpoints = np.arange(1,total_sample_size+1)/(total_sample_size)\n",
    "np.savetxt('2D_AF_xpoints_mrholess.csv', AF_xpoints, delimiter=',')\n",
    "\n",
    "Maruyama_effective_ydata = Theta_eff / np.arange(1,total_sample_size+1)\n",
    "np.savetxt('2D_Maruyama_effective_ydata_mrholess.csv', Maruyama_effective_ydata, delimiter=',')\n",
    "\n",
    "Maruyama_census_ydata = Theta_real / np.arange(1,total_sample_size+1)\n",
    "np.savetxt('2D_Maruyama_census_ydata_mrholess.csv', Maruyama_census_ydata, delimiter=',')\n",
    "\n",
    "Simulated_data = smooth(afs[1:], threshold=thresh, rescale=scale)\n",
    "np.savetxt('2D_Simulated_data_mrholess.csv', Simulated_data , delimiter=',')\n",
    "\n",
    "error_data = np.array(smooth_sem(afs[1:], threshold=thresh, rescale=scale))\n",
    "np.savetxt('2D_Simulated_data_mrholess.csv', Simulated_data , delimiter=',')\n",
    "\n",
    "transition_frequency=max(Deme_density,(m*Deme_density**2))/total_sample_size\n",
    "\n",
    "\n",
    "bi_directional_prediction = pre_factor*Effective_dist\n",
    "np.savetxt('2D_bi_directional_prediction_mrholess.csv', bi_directional_prediction , delimiter=',')\n",
    "\n",
    "\n",
    "scaled_x_bidirection_points=e\n",
    "np.savetxt('2D_scaled_x_bidirection_points_mrholess.csv', scaled_x_bidirection_points , delimiter=',')\n"
   ]
  },
  {
   "cell_type": "code",
   "execution_count": null,
   "id": "528be07d-a5d4-4d6a-ab3b-0ba2d6e77914",
   "metadata": {},
   "outputs": [],
   "source": [
    "plt.loglog(AF_xpoints, Maruyama_effective_ydata, color=\"red\", label =r\"Predicted AFS for population of effective size $N_e=\\dfrac{L^2}{m}$\") \n",
    "plt.loglog(AF_xpoints, Maruyama_census_ydata, color=\"blue\", label =r\"Predicted AFS for population of census size $ N=\\rho L^2 $\" )\n",
    "#plt.loglog(np.arange(1, total_sample_size+1)/(total_sample_size+1), smooth(afs[1:], threshold=1000, rescale=200), color=\"green\") \n",
    "plt.axvline(transition_frequency,color='purple', linestyle = '--')\n",
    "plt.text(0.000078,1000,r\"Transition frequency = $\\dfrac{1}{L}$\",fontsize='12')\n",
    "plt.loglog(scaled_x_bidirection_points ,bi_directional_prediction,\"orange\", label ='Bi-directional migration prediction' )\n",
    "plt.errorbar(AF_xpoints,Simulated_data, yerr=err, ecolor=\"lime\", label = \"Simulated expected AFS\")\n",
    "#plt.axvline(0.25)\n",
    "plt.xlabel(\"Allele frequency\")\n",
    "plt.ylabel('SNP count')\n",
    "#plt.legend([r\"Predicted AFS for population of effective size $N_e=\\frac{L^2}{m}$\", r\"Predicted AFS for population of census size $ N=\\rho L^2 $\", r'Transition frequency $= \\frac{1}{L}$', \"W-F fit\",\"Simulated expected AFS\" ], loc =\"upper right\")\n",
    "plt.legend(prop={\"size\":10.5},loc=\"upper right\")\n",
    "plt.ylim(10**1.5, 10**5)\n",
    "plt.savefig(\"2D_afs2.pdf\")"
   ]
  },
  {
   "cell_type": "code",
   "execution_count": null,
   "id": "eb68a077-0129-4030-a728-1e7b3fc99c12",
   "metadata": {},
   "outputs": [],
   "source": []
  }
 ],
 "metadata": {
  "kernelspec": {
   "display_name": "Python 3",
   "language": "python",
   "name": "python3"
  },
  "language_info": {
   "codemirror_mode": {
    "name": "ipython",
    "version": 3
   },
   "file_extension": ".py",
   "mimetype": "text/x-python",
   "name": "python",
   "nbconvert_exporter": "python",
   "pygments_lexer": "ipython3",
   "version": "3.8.8"
  }
 },
 "nbformat": 4,
 "nbformat_minor": 5
}
